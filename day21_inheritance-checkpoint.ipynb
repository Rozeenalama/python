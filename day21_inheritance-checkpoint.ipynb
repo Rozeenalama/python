{
 "cells": [
  {
   "cell_type": "code",
   "execution_count": null,
   "id": "984d41f6",
   "metadata": {},
   "outputs": [],
   "source": [
    "# class A:\n",
    "#     pass\n",
    "\n",
    "# class B(A):\n",
    "#     pass\n",
    "\n",
    "# obj = B()"
   ]
  },
  {
   "cell_type": "code",
   "execution_count": 2,
   "id": "0292b086",
   "metadata": {},
   "outputs": [
    {
     "name": "stdout",
     "output_type": "stream",
     "text": [
      "enter name = roji\n",
      "enter age = 23\n",
      "Hello world I am roji and I am 23 years old.\n"
     ]
    }
   ],
   "source": [
    "class Data:\n",
    "    def __init__(self):\n",
    "        self.name = input(\"enter name = \")\n",
    "        self.age = int(input(\"enter age = \"))\n",
    "        \n",
    "class Info(Data):\n",
    "    def info(self):\n",
    "        print(f\"Hello world I am {self.name} and I am {self.age} years old.\")\n",
    "        \n",
    "obj = Info()\n",
    "obj.info()"
   ]
  },
  {
   "cell_type": "code",
   "execution_count": null,
   "id": "0a6a16ba",
   "metadata": {},
   "outputs": [],
   "source": [
    "class Data:\n",
    "    def __init__(self):\n",
    "        self.name = input(\"enter name = \")\n",
    "        self.age = int(input(\"enter age = \"))\n",
    "        \n",
    "class Info(Data):\n",
    "    def info(self):\n",
    "        print(f\"Hello world I am {self.name} and I am {self.age} years old.\")\n",
    "        \n",
    "obj = Info()\n",
    "obj.info()\n",
    "print(obj.name,obj.age)"
   ]
  }
 ],
 "metadata": {
  "kernelspec": {
   "display_name": "Python 3 (ipykernel)",
   "language": "python",
   "name": "python3"
  },
  "language_info": {
   "codemirror_mode": {
    "name": "ipython",
    "version": 3
   },
   "file_extension": ".py",
   "mimetype": "text/x-python",
   "name": "python",
   "nbconvert_exporter": "python",
   "pygments_lexer": "ipython3",
   "version": "3.9.13"
  }
 },
 "nbformat": 4,
 "nbformat_minor": 5
}
