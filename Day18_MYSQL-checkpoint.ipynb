{
 "cells": [
  {
   "cell_type": "code",
   "execution_count": null,
   "id": "de8d6804",
   "metadata": {},
   "outputs": [],
   "source": [
    "# !pip install mysql-connector"
   ]
  },
  {
   "cell_type": "code",
   "execution_count": 1,
   "id": "5e9662da",
   "metadata": {},
   "outputs": [],
   "source": [
    "#creating table using code but we already created table manually\n",
    "import mysql.connector  #importing database\n",
    "database = mysql.connector.connect(\n",
    "    host = \"localhost\",\n",
    "    user = \"root\",\n",
    "    password = \"\",\n",
    "   database = \"classpython415\")\n",
    "db = database.cursor()"
   ]
  },
  {
   "cell_type": "code",
   "execution_count": 2,
   "id": "30c57049",
   "metadata": {},
   "outputs": [
    {
     "name": "stdout",
     "output_type": "stream",
     "text": [
      "(1, 'Rojina Lama', 78, 79, 80, 62, 90, 400, 80.0, 'A')\n",
      "(2, 'Hari Prasad', 80, 67, 90, 67, 34, 420, 82.0, 'A')\n",
      "(3, 'ram sharma', 0, 0, 0, 0, 0, 0, 0.0, 'F')\n",
      "(4, 'ram sharma', 100, 80, 90, 80, 60, 450, 88.0, 'F')\n"
     ]
    }
   ],
   "source": [
    "#selecting rows and view data\n",
    "db.execute(\"SELECT * FROM Student\")\n",
    "result = db.fetchall()\n",
    "for x in result:\n",
    "    print(x)"
   ]
  },
  {
   "cell_type": "code",
   "execution_count": 3,
   "id": "ae663c50",
   "metadata": {},
   "outputs": [
    {
     "name": "stdout",
     "output_type": "stream",
     "text": [
      "(1, 'Rojina Lama', 400, 'A')\n",
      "(2, 'Hari Prasad', 420, 'A')\n",
      "(3, 'ram sharma', 0, 'F')\n",
      "(4, 'ram sharma', 450, 'F')\n"
     ]
    }
   ],
   "source": [
    "#To select particular column\n",
    "db.execute(\"SELECT SN,Name,Total,Grade FROM Student\")\n",
    "result =db.fetchall()\n",
    "for x in result:\n",
    "    print(x)"
   ]
  },
  {
   "cell_type": "code",
   "execution_count": 4,
   "id": "8bef4821",
   "metadata": {},
   "outputs": [
    {
     "name": "stdout",
     "output_type": "stream",
     "text": [
      "(1, 'Rojina Lama', 78, 79, 80, 62, 90, 400, 80.0, 'A')\n",
      "(2, 'Hari Prasad', 80, 67, 90, 67, 34, 420, 82.0, 'A')\n"
     ]
    }
   ],
   "source": [
    "db.execute(\"SELECT * FROM Student WHERE Grade = 'A'\")\n",
    "result = db.fetchall()\n",
    "for x in result:\n",
    "    print(x)"
   ]
  },
  {
   "cell_type": "code",
   "execution_count": null,
   "id": "0c9a5c84",
   "metadata": {},
   "outputs": [],
   "source": [
    "#Insert data\n",
    "sql = '''INSERT INTO `student` (`SN`, `Name`, `Physics`, `Chemistry`, `Math`, `English`, `Nepali`, `Total`, `Per`, `Grade`)\n",
    "VALUES ('5', 'riya lama', '50', '70', '80', '88', '60', '409', '82', 'A')''';\n",
    "db.execute(sql)\n",
    "database.commit() "
   ]
  },
  {
   "cell_type": "code",
   "execution_count": 8,
   "id": "ad6745ef",
   "metadata": {},
   "outputs": [
    {
     "name": "stdout",
     "output_type": "stream",
     "text": [
      "enter Name = rojina lama\n",
      "enter physics marks = 80\n",
      "enter chemistry marks = 90\n",
      "enter math marks88\n",
      "enter english marks = 70\n",
      "enter nepali marks = 78\n"
     ]
    }
   ],
   "source": [
    "Name = input(\"enter Name = \")\n",
    "Physics = int(input(\"enter physics marks = \"))\n",
    "Chemistry = int(input(\"enter chemistry marks = \"))\n",
    "Math = int(input(\"enter math marks\"))\n",
    "English = int(input(\"enter english marks = \"))\n",
    "Nepali = int(input(\"enter nepali marks = \"))\n",
    "Total = Physics + Chemistry + Math + English + Nepali\n",
    "Per = Total/5\n",
    "if per>=80:\n",
    "    grade = 'A'\n",
    "elif per>=60:\n",
    "    grade = 'B'\n",
    "elif per>=40:\n",
    "    \n",
    "    grade = 'C'\n",
    "else:\n",
    "    grade = 'F'\n",
    "\n",
    "sql = f'''INSERT INTO `student` (Name,Physics,Chemistry,Math,English,Nepali,Total,Per,grade)\n",
    "VALUES ('{Name}',{Physics},{Chemistry},{Math},{English},{Nepali},{Total},{Per},'{grade}')'''\n",
    "db.execute(sql)\n",
    "database.commit()"
   ]
  },
  {
   "cell_type": "code",
   "execution_count": 6,
   "id": "cbad1185",
   "metadata": {},
   "outputs": [],
   "source": [
    "import mysql.connector  #importing database\n",
    "database = mysql.connector.connect(\n",
    "    host = \"localhost\",\n",
    "    user = \"root\",\n",
    "    password = \"\",\n",
    "   database = \"classpython415\")\n",
    "db = database.cursor()"
   ]
  },
  {
   "cell_type": "code",
   "execution_count": 7,
   "id": "1b88bb78",
   "metadata": {},
   "outputs": [
    {
     "name": "stdout",
     "output_type": "stream",
     "text": [
      "(1, 'Rojina Lama', 78, 79, 80, 62, 90, 400, 80.0, 'A')\n",
      "(2, 'Hari Prasad', 80, 67, 90, 67, 34, 420, 82.0, 'A')\n",
      "(3, 'ram sharma', 0, 0, 0, 0, 0, 0, 0.0, 'F')\n",
      "(4, 'ram sharma', 100, 80, 90, 80, 60, 450, 88.0, 'F')\n",
      "(5, 'riya lama', 50, 70, 80, 88, 60, 409, 82.0, 'A')\n",
      "(6, 'rojina lama', 80, 90, 88, 70, 78, 406, 81.2, 'A')\n"
     ]
    }
   ],
   "source": [
    "db.execute(\"SELECT * FROM Student\")\n",
    "result = db.fetchall()\n",
    "for x in result:\n",
    "    print(x)"
   ]
  },
  {
   "cell_type": "code",
   "execution_count": null,
   "id": "fb2e13a4",
   "metadata": {},
   "outputs": [],
   "source": [
    "#Insert data\n",
    "sql = '''INSERT INTO `student` (`SN`, `Name`, `Physics`, `Chemistry`, `Math`, `English`, `Nepali`, `Total`, `Per`, `Grade`)\n",
    "VALUES ('7', 'paras lama', '51', '72', '83', '88', '62', '415', '82', 'A')''';\n",
    "db.execute(sql)\n",
    "database.commit() "
   ]
  },
  {
   "cell_type": "code",
   "execution_count": 16,
   "id": "009ce066",
   "metadata": {},
   "outputs": [],
   "source": [
    "#Update\n",
    "sql = \"UPDATE Student SET Name = 'kiki',Grade = 'B' WHERE Name ='Hari Prasad'\"\n",
    "db.execute(sql)\n",
    "database.commit()\n"
   ]
  },
  {
   "cell_type": "code",
   "execution_count": 14,
   "id": "5e994b5e",
   "metadata": {},
   "outputs": [],
   "source": [
    "#Delete\n",
    "sql = \"DELETE FROM Student WHERE SN = 6\"\n",
    "db.execute(sql)\n",
    "database.commit()"
   ]
  },
  {
   "cell_type": "code",
   "execution_count": null,
   "id": "4ef701a5",
   "metadata": {},
   "outputs": [],
   "source": []
  }
 ],
 "metadata": {
  "kernelspec": {
   "display_name": "Python 3 (ipykernel)",
   "language": "python",
   "name": "python3"
  },
  "language_info": {
   "codemirror_mode": {
    "name": "ipython",
    "version": 3
   },
   "file_extension": ".py",
   "mimetype": "text/x-python",
   "name": "python",
   "nbconvert_exporter": "python",
   "pygments_lexer": "ipython3",
   "version": "3.9.13"
  }
 },
 "nbformat": 4,
 "nbformat_minor": 5
}
