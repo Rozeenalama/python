{
 "cells": [
  {
   "cell_type": "code",
   "execution_count": 1,
   "id": "a557b335",
   "metadata": {},
   "outputs": [
    {
     "name": "stdout",
     "output_type": "stream",
     "text": [
      "Orange\n",
      "Orange\n",
      "Orange\n"
     ]
    }
   ],
   "source": [
    "x=y=z= \"Orange\"\n",
    "print(x)\n",
    "print(y)\n",
    "print(z)"
   ]
  },
  {
   "cell_type": "code",
   "execution_count": 2,
   "id": "a153d8d1",
   "metadata": {},
   "outputs": [
    {
     "name": "stdout",
     "output_type": "stream",
     "text": [
      "red\n",
      "blue\n",
      "white\n"
     ]
    }
   ],
   "source": [
    "x,y,z = \"red\", \"blue\", \"white\"\n",
    "print(x)\n",
    "print(y)\n",
    "print(z)"
   ]
  },
  {
   "cell_type": "code",
   "execution_count": 3,
   "id": "219e8277",
   "metadata": {},
   "outputs": [
    {
     "name": "stdout",
     "output_type": "stream",
     "text": [
      "orange orange orange\n"
     ]
    }
   ],
   "source": [
    "x=y=z = \"orange\"\n",
    "print(x,y,z)"
   ]
  },
  {
   "cell_type": "code",
   "execution_count": 4,
   "id": "36813cd2",
   "metadata": {},
   "outputs": [
    {
     "name": "stdout",
     "output_type": "stream",
     "text": [
      "red\n",
      "yellow\n",
      "green\n"
     ]
    }
   ],
   "source": [
    "color = [\"red\",\"yellow\",\"green\"]\n",
    "x,y,z = color\n",
    "print(x)\n",
    "print(y)\n",
    "print(z)"
   ]
  },
  {
   "cell_type": "code",
   "execution_count": 5,
   "id": "0f73235c",
   "metadata": {},
   "outputs": [
    {
     "name": "stdout",
     "output_type": "stream",
     "text": [
      "orange\n",
      "cherry\n",
      "apple\n"
     ]
    }
   ],
   "source": [
    "fruits = [\"orange\",\"cherry\",\"apple\"]\n",
    "x,y,z = fruits\n",
    "print(x)\n",
    "print(y)\n",
    "print(z)"
   ]
  },
  {
   "cell_type": "code",
   "execution_count": 6,
   "id": "6e724743",
   "metadata": {},
   "outputs": [
    {
     "name": "stdout",
     "output_type": "stream",
     "text": [
      "python is fun\n"
     ]
    }
   ],
   "source": [
    "x = \"python\"\n",
    "y = \"is\"\n",
    "z = \"fun\"\n",
    "print(x,y,z)"
   ]
  },
  {
   "cell_type": "code",
   "execution_count": 7,
   "id": "3385a8cc",
   "metadata": {},
   "outputs": [
    {
     "name": "stdout",
     "output_type": "stream",
     "text": [
      "pythonisfun\n"
     ]
    }
   ],
   "source": [
    "x = \"python\"\n",
    "y = \"is\"\n",
    "z = \"fun\"\n",
    "print(x+y+z)"
   ]
  },
  {
   "cell_type": "code",
   "execution_count": null,
   "id": "db81ee61",
   "metadata": {},
   "outputs": [],
   "source": [
    "# if <condition>:\n",
    "#     <operations>\n",
    "# elif<condition>:\n",
    "#     <operations>\n",
    "# ....\n",
    "# else:\n",
    "#     <operations>"
   ]
  },
  {
   "cell_type": "code",
   "execution_count": 8,
   "id": "7197f58c",
   "metadata": {},
   "outputs": [
    {
     "name": "stdout",
     "output_type": "stream",
     "text": [
      "enter a = 10\n",
      "The no is even\n"
     ]
    }
   ],
   "source": [
    "a = int(input(\"enter a = \"))\n",
    "if a%2==0:\n",
    "    print(\"The no is even\")\n",
    "else:\n",
    "    print(\"The no is odd\")"
   ]
  },
  {
   "cell_type": "code",
   "execution_count": 9,
   "id": "2b5510e0",
   "metadata": {},
   "outputs": [
    {
     "name": "stdout",
     "output_type": "stream",
     "text": [
      "enter 1 or 2 or 34\n",
      "you entered invalid no\n"
     ]
    }
   ],
   "source": [
    "a = int(input(\"enter 1 or 2 or 3\"))\n",
    "if a ==1:\n",
    "    print(\"you entered 1\")\n",
    "elif a ==2:\n",
    "    print(\"you entered 2\")\n",
    "elif a ==3:\n",
    "    print(\"you entered 3\")\n",
    "else:\n",
    "    print(\"you entered invalid no\")"
   ]
  },
  {
   "cell_type": "code",
   "execution_count": 10,
   "id": "3828564a",
   "metadata": {},
   "outputs": [
    {
     "name": "stdout",
     "output_type": "stream",
     "text": [
      "enter a = 10\n",
      "enter b = 10\n",
      "enter + - * / *\n",
      "100\n"
     ]
    }
   ],
   "source": [
    "a = int(input(\"enter a = \"))\n",
    "b = int(input(\"enter b = \"))\n",
    "o = input(\"enter + - * / \")\n",
    "if o == '+':\n",
    "    print(a+b)\n",
    "elif o == '-':\n",
    "    print(a-b)\n",
    "elif o == '*':\n",
    "    print(a*b)\n",
    "elif o == '/':\n",
    "    print(a/b)\n",
    "else:\n",
    "    print(\" enter invalid operator\")"
   ]
  },
  {
   "cell_type": "code",
   "execution_count": 11,
   "id": "c0078b91",
   "metadata": {},
   "outputs": [
    {
     "name": "stdout",
     "output_type": "stream",
     "text": [
      "enter physics marks = 32\n",
      "enter chemistry marks = 44\n",
      "enter math marks56\n",
      "enter english marks = 78\n",
      "enter nepali marks = 89\n",
      "your grade is C\n"
     ]
    }
   ],
   "source": [
    "physics = int(input(\"enter physics marks = \"))\n",
    "chemistry = int(input(\"enter chemistry marks = \"))\n",
    "math = int(input(\"enter math marks\"))\n",
    "english = int(input(\"enter english marks = \"))\n",
    "nepali = int(input(\"enter nepali marks = \"))\n",
    "total = physics + chemistry + math + english + nepali\n",
    "per = total/5\n",
    "if per>=80:\n",
    "    print(\"your grade is A\")\n",
    "elif per>=60:\n",
    "    print(\"your grade is B\")\n",
    "elif per>=40:\n",
    "    print(\"your grade is C\")\n",
    "else:\n",
    "    print(\"your grade is F\")"
   ]
  },
  {
   "cell_type": "code",
   "execution_count": 12,
   "id": "507ab8fd",
   "metadata": {},
   "outputs": [
    {
     "name": "stdout",
     "output_type": "stream",
     "text": [
      "True\n",
      "False\n",
      "False\n",
      "False\n"
     ]
    }
   ],
   "source": [
    "# AND , OR operations\n",
    "print(True and True)\n",
    "print(False and True)\n",
    "print(True and False)\n",
    "print(False and False)"
   ]
  },
  {
   "cell_type": "code",
   "execution_count": 13,
   "id": "806ddfb4",
   "metadata": {},
   "outputs": [
    {
     "name": "stdout",
     "output_type": "stream",
     "text": [
      "True\n",
      "True\n",
      "True\n",
      "False\n"
     ]
    }
   ],
   "source": [
    "# OR operations\n",
    "print(True or True)\n",
    "print(False or True)\n",
    "print(True or False)\n",
    "print(False or False)"
   ]
  },
  {
   "cell_type": "code",
   "execution_count": 14,
   "id": "b967ac99",
   "metadata": {},
   "outputs": [
    {
     "name": "stdout",
     "output_type": "stream",
     "text": [
      "enter a = 10\n",
      "enter b = 0\n",
      "enter + - * / /\n",
      "The value in b cannot be zero\n"
     ]
    }
   ],
   "source": [
    "a = int(input(\"enter a = \"))\n",
    "b = int(input(\"enter b = \"))\n",
    "o = input(\"enter + - * / \")\n",
    "if o == '+':\n",
    "    print(a+b)\n",
    "elif o == '-':\n",
    "    print(a-b)\n",
    "elif o == '*':\n",
    "    print(a*b)\n",
    "elif (o == '/') and (b != 0):\n",
    "    print(a/b)\n",
    "elif (o == '/') and (b == 0):\n",
    "    print(\"The value in b cannot be zero\")\n",
    "else:\n",
    "    print(\"Enter valid operator\")"
   ]
  },
  {
   "cell_type": "code",
   "execution_count": null,
   "id": "4b321926",
   "metadata": {},
   "outputs": [],
   "source": [
    "# nested if\n",
    "# if <condition>:\n",
    "#     if <condition>:\n",
    "#         <operations>\n",
    "#     else:\n",
    "#         <operation>\n",
    "    "
   ]
  },
  {
   "cell_type": "code",
   "execution_count": 15,
   "id": "7d869504",
   "metadata": {},
   "outputs": [
    {
     "name": "stdout",
     "output_type": "stream",
     "text": [
      "enter physic marks = 32\n",
      "enter chemistry marks = 22\n",
      "enter math marks = 55\n",
      "enter english marks = 67\n",
      "enter nepali marks = 87\n",
      "your grade is F\n"
     ]
    }
   ],
   "source": [
    "physics = int(input(\"enter physic marks = \"))\n",
    "chemistry = int(input(\"enter chemistry marks = \"))\n",
    "math = int(input(\"enter math marks = \"))\n",
    "english = int(input(\"enter english marks = \"))\n",
    "nepali = int(input(\"enter nepali marks = \"))\n",
    "total = physics + chemistry + math + english + nepali\n",
    "per = total/5\n",
    "if physics>=32 and chemistry>=34 and math>=40 and english>=40 and nepali>=32:\n",
    "    if per>=80:\n",
    "        print(\"your grade is A\")\n",
    "    elif per>=60:\n",
    "        print(\"your grade is B\")\n",
    "    elif per>=40:\n",
    "        print(\"your grade is C\")\n",
    "else:\n",
    "    print(\"your grade is F\")\n"
   ]
  },
  {
   "cell_type": "code",
   "execution_count": null,
   "id": "7ab8d4bd",
   "metadata": {},
   "outputs": [],
   "source": []
  }
 ],
 "metadata": {
  "kernelspec": {
   "display_name": "Python 3 (ipykernel)",
   "language": "python",
   "name": "python3"
  },
  "language_info": {
   "codemirror_mode": {
    "name": "ipython",
    "version": 3
   },
   "file_extension": ".py",
   "mimetype": "text/x-python",
   "name": "python",
   "nbconvert_exporter": "python",
   "pygments_lexer": "ipython3",
   "version": "3.9.13"
  }
 },
 "nbformat": 4,
 "nbformat_minor": 5
}
