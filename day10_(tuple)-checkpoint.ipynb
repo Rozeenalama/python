{
 "cells": [
  {
   "cell_type": "code",
   "execution_count": null,
   "id": "b858db76",
   "metadata": {},
   "outputs": [],
   "source": [
    "#Tuple\n",
    "# -indexing\n",
    "# -multiple and duplicate  value\n",
    "# -ordered\n",
    "# -imutable"
   ]
  },
  {
   "cell_type": "code",
   "execution_count": 1,
   "id": "58a39817",
   "metadata": {},
   "outputs": [
    {
     "name": "stdout",
     "output_type": "stream",
     "text": [
      "<class 'tuple'>\n"
     ]
    }
   ],
   "source": [
    "a = (1,2,3,4)\n",
    "print(type(a))s"
   ]
  },
  {
   "cell_type": "code",
   "execution_count": 2,
   "id": "184fb6e5",
   "metadata": {},
   "outputs": [
    {
     "name": "stdout",
     "output_type": "stream",
     "text": [
      "<class 'tuple'>\n"
     ]
    }
   ],
   "source": [
    "a = (\"Apple\",) #necessary to write comma , at the end\n",
    "print(type(a))\n"
   ]
  },
  {
   "cell_type": "code",
   "execution_count": 3,
   "id": "9bc4249b",
   "metadata": {},
   "outputs": [
    {
     "name": "stdout",
     "output_type": "stream",
     "text": [
      "(1, 2, 3, 4)\n"
     ]
    }
   ],
   "source": [
    "a = 1,2,3,4\n",
    "print(a)"
   ]
  },
  {
   "cell_type": "code",
   "execution_count": 4,
   "id": "341c641f",
   "metadata": {},
   "outputs": [
    {
     "name": "stdout",
     "output_type": "stream",
     "text": [
      "1\n",
      "(1, 2, 3)\n",
      "(1, 3)\n"
     ]
    }
   ],
   "source": [
    "a = (1,2,3,4)\n",
    "print(a[0])\n",
    "print(a[0:3])\n",
    "print(a[0:3:2])"
   ]
  },
  {
   "cell_type": "code",
   "execution_count": 2,
   "id": "ea262a75",
   "metadata": {},
   "outputs": [
    {
     "name": "stdout",
     "output_type": "stream",
     "text": [
      "enter c = 2\n",
      "enter x = 11\n",
      "enter x = 12\n",
      "('11', '12')\n"
     ]
    }
   ],
   "source": [
    "#in tuple we cannot create,update,delete\n",
    "t = tuple()\n",
    "c = int(input(\"enter c = \"))\n",
    "for i in range(c):\n",
    "    x = input(\"enter x = \") #x=string\n",
    "    t = t + (x,)\n",
    "print(t)\n"
   ]
  },
  {
   "cell_type": "code",
   "execution_count": null,
   "id": "c76d4a1f",
   "metadata": {},
   "outputs": [],
   "source": [
    "# max() min() sum() sorted()"
   ]
  },
  {
   "cell_type": "code",
   "execution_count": 3,
   "id": "843fe77c",
   "metadata": {},
   "outputs": [
    {
     "name": "stdout",
     "output_type": "stream",
     "text": [
      "[1, 22, 30, 45, 78, 234]\n",
      "(234, 45, 78, 30, 22, 1)\n"
     ]
    }
   ],
   "source": [
    "a = (234,45,78,30,22,1) \n",
    "print(sorted(a))\n",
    "print(a)"
   ]
  },
  {
   "cell_type": "code",
   "execution_count": 4,
   "id": "548aa7b9",
   "metadata": {},
   "outputs": [
    {
     "data": {
      "text/plain": [
       "(234, 45, 78, 30, 22, 1)"
      ]
     },
     "execution_count": 4,
     "metadata": {},
     "output_type": "execute_result"
    }
   ],
   "source": [
    "a = (234,45,78,30,22,1) \n",
    "b = list(a)\n",
    "a"
   ]
  },
  {
   "cell_type": "code",
   "execution_count": 5,
   "id": "3708ed93",
   "metadata": {},
   "outputs": [
    {
     "data": {
      "text/plain": [
       "(45, 78, 30, 22, 1)"
      ]
     },
     "execution_count": 5,
     "metadata": {},
     "output_type": "execute_result"
    }
   ],
   "source": [
    "a = (234,45,78,30,22,1) \n",
    "a = list(a)\n",
    "del a[0]\n",
    "a = tuple(a)\n",
    "a"
   ]
  },
  {
   "cell_type": "code",
   "execution_count": null,
   "id": "7e2f6bd0",
   "metadata": {},
   "outputs": [],
   "source": []
  }
 ],
 "metadata": {
  "kernelspec": {
   "display_name": "Python 3 (ipykernel)",
   "language": "python",
   "name": "python3"
  },
  "language_info": {
   "codemirror_mode": {
    "name": "ipython",
    "version": 3
   },
   "file_extension": ".py",
   "mimetype": "text/x-python",
   "name": "python",
   "nbconvert_exporter": "python",
   "pygments_lexer": "ipython3",
   "version": "3.9.13"
  }
 },
 "nbformat": 4,
 "nbformat_minor": 5
}
