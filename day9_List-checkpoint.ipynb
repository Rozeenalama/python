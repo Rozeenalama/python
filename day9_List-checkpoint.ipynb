{
 "cells": [
  {
   "cell_type": "code",
   "execution_count": null,
   "id": "130da79e",
   "metadata": {},
   "outputs": [],
   "source": [
    "#python collection\n",
    "#-List\n",
    "#-Tuple\n",
    "#-Dictionary\n",
    "#-Set"
   ]
  },
  {
   "cell_type": "code",
   "execution_count": 2,
   "id": "bea6e751",
   "metadata": {},
   "outputs": [
    {
     "name": "stdout",
     "output_type": "stream",
     "text": [
      "<class 'list'>\n",
      "<class 'list'>\n",
      "<class 'list'>\n",
      "<class 'list'>\n"
     ]
    }
   ],
   "source": [
    "a = list()\n",
    "b = ['Apple','Ball','Cat','Dog','Egg']\n",
    "c = [1,2,3,4,5,6,7]\n",
    "d = [1,2,3,'apple','ball','1.3']\n",
    "print(type(a))\n",
    "print(type(b))\n",
    "print(type(c))\n",
    "print(type(d))"
   ]
  },
  {
   "cell_type": "code",
   "execution_count": null,
   "id": "efbd981f",
   "metadata": {},
   "outputs": [],
   "source": [
    "#list\n",
    "#-indexing\n",
    "#-multiple and duplicate value\n",
    "#-ordered\n",
    "#-mutable\n"
   ]
  },
  {
   "cell_type": "code",
   "execution_count": 9,
   "id": "b258bb82",
   "metadata": {},
   "outputs": [
    {
     "name": "stdout",
     "output_type": "stream",
     "text": [
      "Apple\n",
      "Ball\n",
      "['Apple', 'Ball', 'Cat', 'Dog']\n",
      "['Apple', 'Cat', 'Elephant']\n"
     ]
    }
   ],
   "source": [
    "a =['Apple','Ball','Cat','Dog','Elephant']\n",
    "print(a[0])\n",
    "print(a[1])\n",
    "print(a[0:4])\n",
    "print(a[0:5:2])\n",
    "\n"
   ]
  },
  {
   "cell_type": "code",
   "execution_count": 10,
   "id": "b853a21e",
   "metadata": {},
   "outputs": [
    {
     "name": "stdout",
     "output_type": "stream",
     "text": [
      "<class 'str'>\n"
     ]
    }
   ],
   "source": [
    "a = ['Apple','Ball','Cat','Dog','Egg','Apple']\n",
    "print(type(a[0]))"
   ]
  },
  {
   "cell_type": "code",
   "execution_count": 11,
   "id": "0840a26c",
   "metadata": {},
   "outputs": [
    {
     "name": "stdout",
     "output_type": "stream",
     "text": [
      "['A', 'p', 'p', 'l', 'e']\n"
     ]
    }
   ],
   "source": [
    "a = list('Apple')\n",
    "print(a)"
   ]
  },
  {
   "cell_type": "code",
   "execution_count": 12,
   "id": "2cb5175b",
   "metadata": {},
   "outputs": [
    {
     "name": "stdout",
     "output_type": "stream",
     "text": [
      "['Ball', 'Apple', 'Cat', 'Dog', 'Egg']\n"
     ]
    }
   ],
   "source": [
    "a = ['Ball','Apple','Cat','Dog','Egg']\n",
    "print(a)"
   ]
  },
  {
   "cell_type": "code",
   "execution_count": 13,
   "id": "0ed37956",
   "metadata": {},
   "outputs": [
    {
     "name": "stdout",
     "output_type": "stream",
     "text": [
      "[1, 2, 3, 4, 5, 6, 'Apple', 'Ball', 'Cat']\n"
     ]
    }
   ],
   "source": [
    "# + *\n",
    "a = [1,2,3,4,5,6]\n",
    "b = ['Apple','Ball','Cat']\n",
    "c = a+b\n",
    "print(c)"
   ]
  },
  {
   "cell_type": "code",
   "execution_count": 14,
   "id": "715946db",
   "metadata": {},
   "outputs": [
    {
     "name": "stdout",
     "output_type": "stream",
     "text": [
      "[1, 2, 3, 4, 5, 6, 1, 2, 3, 4, 5, 6]\n"
     ]
    }
   ],
   "source": [
    "a = [1,2,3,4,5,6]\n",
    "print(a*2)"
   ]
  },
  {
   "cell_type": "code",
   "execution_count": 15,
   "id": "9e1fa903",
   "metadata": {},
   "outputs": [
    {
     "name": "stdout",
     "output_type": "stream",
     "text": [
      "Ball\n",
      "Apple\n",
      "Cat\n",
      "Dog\n",
      "Egg\n"
     ]
    }
   ],
   "source": [
    "a = ['Ball','Apple','Cat','Dog','Egg']\n",
    "for i in a:\n",
    "    print(i)"
   ]
  },
  {
   "cell_type": "code",
   "execution_count": 16,
   "id": "69afe7fc",
   "metadata": {},
   "outputs": [
    {
     "name": "stdout",
     "output_type": "stream",
     "text": [
      "enter c = 5\n",
      "enter x = 11\n",
      "enter x = 2\n",
      "enter x = 12\n",
      "enter x = 32\n",
      "enter x = 11\n",
      "[11, 2, 12, 32, 11]\n"
     ]
    }
   ],
   "source": [
    "l = list()\n",
    "c = int(input(\"enter c = \"))\n",
    "for i in range(c):\n",
    "    x = int(input(\"enter x = \"))\n",
    "    l = l+[x]\n",
    "print(l)"
   ]
  },
  {
   "cell_type": "code",
   "execution_count": 19,
   "id": "4f9fbbf8",
   "metadata": {},
   "outputs": [
    {
     "name": "stdout",
     "output_type": "stream",
     "text": [
      "The max value =  32\n",
      "The min value =  2\n",
      "The sum value =  68\n",
      "[2, 11, 11, 12, 32]\n",
      "[32, 12, 11, 11, 2]\n"
     ]
    }
   ],
   "source": [
    "print(\"The max value = \",max(l))\n",
    "print(\"The min value = \",min(l))\n",
    "print(\"The sum value = \",sum(l))\n",
    "l.sort()\n",
    "print(l)\n",
    "l.reverse()\n",
    "print(l)"
   ]
  },
  {
   "cell_type": "code",
   "execution_count": 20,
   "id": "ae6fb1da",
   "metadata": {},
   "outputs": [
    {
     "name": "stdout",
     "output_type": "stream",
     "text": [
      "['ant', 'apple', 'cat', 'zebra', 'zebra']\n"
     ]
    }
   ],
   "source": [
    "a = ['zebra','apple','cat','zebra','ant']\n",
    "a.sort()\n",
    "print(a)"
   ]
  },
  {
   "cell_type": "code",
   "execution_count": null,
   "id": "4eb92af0",
   "metadata": {},
   "outputs": [],
   "source": [
    "#append() #insert() #extend()"
   ]
  },
  {
   "cell_type": "code",
   "execution_count": 21,
   "id": "c64ba728",
   "metadata": {},
   "outputs": [
    {
     "name": "stdout",
     "output_type": "stream",
     "text": [
      "['Apple', 'Ball']\n"
     ]
    }
   ],
   "source": [
    "a = []\n",
    "a.append('Apple')\n",
    "a.append('Ball')\n",
    "print(a)"
   ]
  },
  {
   "cell_type": "code",
   "execution_count": 1,
   "id": "5170a573",
   "metadata": {},
   "outputs": [
    {
     "name": "stdout",
     "output_type": "stream",
     "text": [
      "enter c = 2\n",
      "enter x = 11\n",
      "enter x = 12\n",
      "['11', '12']\n"
     ]
    }
   ],
   "source": [
    "l = []\n",
    "c = int(input(\"enter c = \"))\n",
    "for i in range(c):\n",
    "    x = input(\"enter x = \")\n",
    "    l.append(x)\n",
    "print(l)"
   ]
  },
  {
   "cell_type": "code",
   "execution_count": 3,
   "id": "d21dd844",
   "metadata": {},
   "outputs": [
    {
     "name": "stdout",
     "output_type": "stream",
     "text": [
      "['ant', 'apple', 'Apple', 'cat', 'dog', 'elephant']\n"
     ]
    }
   ],
   "source": [
    "a =['ant','apple','cat','dog','elephant']\n",
    "a.insert(2,'Apple')\n",
    "print(a)"
   ]
  },
  {
   "cell_type": "code",
   "execution_count": 5,
   "id": "43680b40",
   "metadata": {},
   "outputs": [
    {
     "name": "stdout",
     "output_type": "stream",
     "text": [
      "['ant', 'Apple', 'apple', 'cat', 'dog', 'zebra', 1, 2, 3, 4, 5]\n"
     ]
    }
   ],
   "source": [
    "a = ['ant','Apple','apple','cat','dog','zebra']\n",
    "b = [1,2,3,4,5]\n",
    "a.extend(b)\n",
    "print(a)"
   ]
  },
  {
   "cell_type": "code",
   "execution_count": null,
   "id": "3c6aad86",
   "metadata": {},
   "outputs": [],
   "source": [
    "#update"
   ]
  },
  {
   "cell_type": "code",
   "execution_count": 8,
   "id": "e113410d",
   "metadata": {},
   "outputs": [
    {
     "name": "stdout",
     "output_type": "stream",
     "text": [
      "['Ant', 'Apple', 'apple', 'cat', 'zebra', 'zebra']\n"
     ]
    }
   ],
   "source": [
    "a = ['ant','Apple','apple','cat','zebra','zebra']\n",
    "a[0] = 'Ant'\n",
    "print(a)"
   ]
  },
  {
   "cell_type": "code",
   "execution_count": null,
   "id": "9e354ad2",
   "metadata": {},
   "outputs": [],
   "source": [
    "#del remove() pop()"
   ]
  },
  {
   "cell_type": "code",
   "execution_count": 10,
   "id": "647fd54f",
   "metadata": {},
   "outputs": [
    {
     "name": "stdout",
     "output_type": "stream",
     "text": [
      "['dog']\n"
     ]
    }
   ],
   "source": [
    "a = ['ant','Apple','apple','cat','zebra','dog']\n",
    "del a[0:5]\n",
    "print(a)"
   ]
  },
  {
   "cell_type": "code",
   "execution_count": null,
   "id": "d884cde7",
   "metadata": {},
   "outputs": [],
   "source": [
    "#remove"
   ]
  },
  {
   "cell_type": "code",
   "execution_count": 12,
   "id": "7bea4d73",
   "metadata": {},
   "outputs": [
    {
     "name": "stdout",
     "output_type": "stream",
     "text": [
      "['ant', 'cat', 'dog', 'ball', 'tiger']\n"
     ]
    }
   ],
   "source": [
    "a = ['ant','apple','cat','dog','ball','tiger']\n",
    "a.remove('apple')\n",
    "print(a)"
   ]
  },
  {
   "cell_type": "code",
   "execution_count": 16,
   "id": "9bbac86b",
   "metadata": {},
   "outputs": [
    {
     "name": "stdout",
     "output_type": "stream",
     "text": [
      "enter name = ant\n",
      "['tiger', 'cat', 'dog', 'lion']\n"
     ]
    }
   ],
   "source": [
    "a = ['ant','tiger','cat','dog','lion']\n",
    "name = input(\"enter name = \")\n",
    "c = a.count(name)\n",
    "for i in range(c):\n",
    "    a.remove(name)\n",
    "\n",
    "print(a)"
   ]
  },
  {
   "cell_type": "code",
   "execution_count": 3,
   "id": "b433efab",
   "metadata": {},
   "outputs": [
    {
     "name": "stdout",
     "output_type": "stream",
     "text": [
      "enter name =  lovely\n",
      "['cute', 'beautiful', 'gorgeous']\n"
     ]
    }
   ],
   "source": [
    "b = ['lovely','cute','beautiful','gorgeous']\n",
    "name = input(\"enter name =  \")\n",
    "c = b.count(name)\n",
    "for i in range(c):\n",
    "    b.remove(name)\n",
    "    \n",
    "print(b)\n"
   ]
  },
  {
   "cell_type": "code",
   "execution_count": 5,
   "id": "8b78f92c",
   "metadata": {},
   "outputs": [
    {
     "data": {
      "text/plain": [
       "1"
      ]
     },
     "execution_count": 5,
     "metadata": {},
     "output_type": "execute_result"
    }
   ],
   "source": [
    "a = ['ant','apple','ball','cat','dog','ant']\n",
    "a.index('apple')"
   ]
  },
  {
   "cell_type": "code",
   "execution_count": 9,
   "id": "261dc10d",
   "metadata": {},
   "outputs": [
    {
     "name": "stdout",
     "output_type": "stream",
     "text": [
      "1\n",
      "2\n"
     ]
    }
   ],
   "source": [
    "a =['ant','apple','apple','Apple','cat','dog']\n",
    "for i in range(len(a)):\n",
    "    if a[i] == 'apple':\n",
    "        print(i)"
   ]
  },
  {
   "cell_type": "code",
   "execution_count": 10,
   "id": "a11bfc38",
   "metadata": {},
   "outputs": [
    {
     "data": {
      "text/plain": [
       "[1, 2, 3, 1, 2, 3]"
      ]
     },
     "execution_count": 10,
     "metadata": {},
     "output_type": "execute_result"
    }
   ],
   "source": [
    "a = [1,2,3]\n",
    "a*2"
   ]
  },
  {
   "cell_type": "code",
   "execution_count": 1,
   "id": "091c2095",
   "metadata": {},
   "outputs": [
    {
     "data": {
      "text/plain": [
       "'p'"
      ]
     },
     "execution_count": 1,
     "metadata": {},
     "output_type": "execute_result"
    }
   ],
   "source": [
    "a = ['ant','Apple','apple','cat']\n",
    "a[1][1]"
   ]
  },
  {
   "cell_type": "code",
   "execution_count": null,
   "id": "96f256b7",
   "metadata": {},
   "outputs": [],
   "source": [
    "#List inside List"
   ]
  },
  {
   "cell_type": "code",
   "execution_count": 5,
   "id": "c80ff688",
   "metadata": {},
   "outputs": [
    {
     "name": "stdout",
     "output_type": "stream",
     "text": [
      "4\n",
      "[9, 10, 11, 12]\n",
      "5\n"
     ]
    }
   ],
   "source": [
    "a=[[1,2,3,4],[5,6,7,8],[9,10,11,12],[1,1,2,3]]\n",
    "print(len(a))\n",
    "print(a[2])\n",
    "print(a[1][0])"
   ]
  },
  {
   "cell_type": "code",
   "execution_count": 6,
   "id": "2c16867e",
   "metadata": {},
   "outputs": [
    {
     "name": "stdout",
     "output_type": "stream",
     "text": [
      "[['Ram', 34, 'kathmandu'], ['shyam', 23, 'pokhara'], ['hari', 35, 'chitwan']]\n"
     ]
    }
   ],
   "source": [
    "a = [['Ram',34,'kathmandu'],\n",
    "    ['shyam',23,'pokhara'],\n",
    "    ['hari',35,'chitwan']]\n",
    "print(a)"
   ]
  },
  {
   "cell_type": "code",
   "execution_count": 7,
   "id": "3bbba0bf",
   "metadata": {},
   "outputs": [
    {
     "name": "stdout",
     "output_type": "stream",
     "text": [
      "enter c = 2\n",
      "enter name = roji\n",
      "enter age = 23\n",
      "enter add = kathmandu\n",
      "enter name = riya\n",
      "enter age = 19\n",
      "enter add = chitwan\n"
     ]
    },
    {
     "data": {
      "text/plain": [
       "[['roji', 23, 'kathmandu'], ['riya', 19, 'chitwan']]"
      ]
     },
     "execution_count": 7,
     "metadata": {},
     "output_type": "execute_result"
    }
   ],
   "source": [
    "data =[]\n",
    "c = int(input(\"enter c = \"))\n",
    "for i in range(c):\n",
    "    name = input(\"enter name = \")\n",
    "    age = int(input(\"enter age = \"))\n",
    "    add = input(\"enter add = \")\n",
    "    data.append([name,age,add])\n",
    "data"
   ]
  },
  {
   "cell_type": "code",
   "execution_count": null,
   "id": "324fe6ea",
   "metadata": {},
   "outputs": [],
   "source": [
    "#update"
   ]
  },
  {
   "cell_type": "code",
   "execution_count": 8,
   "id": "437e34ba",
   "metadata": {},
   "outputs": [
    {
     "name": "stdout",
     "output_type": "stream",
     "text": [
      "[['Rama', 55, 'chitwan'], ['shyam', 20, 'Bhaktapur']]\n"
     ]
    }
   ],
   "source": [
    "a = [['Ram',45,'kathmandu'],['shyam',20,'Bhaktapur']]\n",
    "a[0] = ['Rama',55,'chitwan']\n",
    "print(a)"
   ]
  },
  {
   "cell_type": "code",
   "execution_count": 9,
   "id": "518e02be",
   "metadata": {},
   "outputs": [
    {
     "name": "stdout",
     "output_type": "stream",
     "text": [
      "[['riya', 55, 'nepal'], ['roji', 24, 'europe']]\n"
     ]
    }
   ],
   "source": [
    "a= [['riya',55,'nepal'],['siya',66,'USA']]\n",
    "a[1] = ['roji',24,'europe']\n",
    "print(a)"
   ]
  },
  {
   "cell_type": "code",
   "execution_count": 11,
   "id": "919f0656",
   "metadata": {},
   "outputs": [
    {
     "name": "stdout",
     "output_type": "stream",
     "text": [
      "[['roji', 56, 'chitwan'], ['siya', 44, 'lalitpur']]\n"
     ]
    }
   ],
   "source": [
    "a = [['riya',56,'chitwan'],['siya',44,'lalitpur']]\n",
    "a[0][0] = 'roji'\n",
    "print(a)"
   ]
  },
  {
   "cell_type": "code",
   "execution_count": null,
   "id": "bcccb000",
   "metadata": {},
   "outputs": [],
   "source": [
    "#Delete"
   ]
  },
  {
   "cell_type": "code",
   "execution_count": 12,
   "id": "1d184d6f",
   "metadata": {},
   "outputs": [
    {
     "name": "stdout",
     "output_type": "stream",
     "text": [
      "[['Hari', 23, 'chitwan']]\n"
     ]
    }
   ],
   "source": [
    "a = [['Ram',34,'kathmandu'],['Hari',23,'chitwan']]\n",
    "del a[0]\n",
    "print(a)"
   ]
  },
  {
   "cell_type": "code",
   "execution_count": 13,
   "id": "8f100f18",
   "metadata": {},
   "outputs": [
    {
     "name": "stdout",
     "output_type": "stream",
     "text": [
      "[['Ram', 33], ['Hari', 77, 'lalitpur']]\n"
     ]
    }
   ],
   "source": [
    "a = [['Ram',33,'chitwan'],['Hari',77,'lalitpur']]\n",
    "del a[0][2]\n",
    "print(a)"
   ]
  },
  {
   "cell_type": "code",
   "execution_count": null,
   "id": "f8f5777e",
   "metadata": {},
   "outputs": [],
   "source": [
    "#pop"
   ]
  },
  {
   "cell_type": "code",
   "execution_count": 14,
   "id": "4a1a3e23",
   "metadata": {},
   "outputs": [
    {
     "name": "stdout",
     "output_type": "stream",
     "text": [
      "[['shyam', 80, 'chitwan']]\n",
      "['Ram', 45, 'kathmandu']\n"
     ]
    }
   ],
   "source": [
    "a = [['Ram',45,'kathmandu'],['shyam',80,'chitwan']]\n",
    "b = a.pop(0)\n",
    "print(a)\n",
    "print(b)"
   ]
  },
  {
   "cell_type": "code",
   "execution_count": 15,
   "id": "1a5f6fb4",
   "metadata": {},
   "outputs": [
    {
     "name": "stdout",
     "output_type": "stream",
     "text": [
      "[['Ram', 'kathmandu'], ['Shyam', 90, 'bhaktapur']]\n",
      "45\n"
     ]
    }
   ],
   "source": [
    "a = [['Ram',45,'kathmandu'],['Shyam',90,'bhaktapur']]\n",
    "b = a[0].pop(1)\n",
    "print(a)\n",
    "print(b)"
   ]
  },
  {
   "cell_type": "code",
   "execution_count": 16,
   "id": "a7b5a622",
   "metadata": {},
   "outputs": [
    {
     "name": "stdout",
     "output_type": "stream",
     "text": [
      "[['Ram', 45, 'kathmandu', 98076544], ['shyam', 90, 'chitwan', 98876587]]\n"
     ]
    }
   ],
   "source": [
    "a = [['Ram',45,'kathmandu'],['shyam',90,'chitwan']]\n",
    "a[0].append(98076544)\n",
    "a[1].append(98876587)\n",
    "print(a)"
   ]
  },
  {
   "cell_type": "code",
   "execution_count": 19,
   "id": "eeb7a1e4",
   "metadata": {},
   "outputs": [
    {
     "name": "stdout",
     "output_type": "stream",
     "text": [
      "enter name = Ram\n",
      "['Ram', 45, 'kathmandu']\n"
     ]
    }
   ],
   "source": [
    "a = [['Ram',45,'kathmandu'],['shyam',33,'bhaktapur'],['akash',33,'jhapa']]\n",
    "name = input(\"enter name = \")\n",
    "for i in a:\n",
    "    if name in i:\n",
    "        print(i)"
   ]
  },
  {
   "cell_type": "code",
   "execution_count": 21,
   "id": "cdd0eae1",
   "metadata": {},
   "outputs": [
    {
     "name": "stdout",
     "output_type": "stream",
     "text": [
      "enter name = ram\n",
      "['Ram', 45, 'kathmandu']\n"
     ]
    }
   ],
   "source": [
    "a =[['Ram',45,'kathmandu'],['shyam',33,'chitwan']]\n",
    "name = input(\"enter name = \")\n",
    "for i in a:\n",
    "    if name.lower() == i[0].lower():\n",
    "        print(i)"
   ]
  },
  {
   "cell_type": "code",
   "execution_count": null,
   "id": "6dde367e",
   "metadata": {},
   "outputs": [],
   "source": [
    "a = [['Ram',99,'kathmandu'],['shyam',33,'chitwan']]\n",
    "name = input(\"enter name = \")\n",
    "for i in range(len(a)):\n",
    "    if a[i][0] ==  name:\n",
    "        print(i)"
   ]
  }
 ],
 "metadata": {
  "kernelspec": {
   "display_name": "Python 3 (ipykernel)",
   "language": "python",
   "name": "python3"
  },
  "language_info": {
   "codemirror_mode": {
    "name": "ipython",
    "version": 3
   },
   "file_extension": ".py",
   "mimetype": "text/x-python",
   "name": "python",
   "nbconvert_exporter": "python",
   "pygments_lexer": "ipython3",
   "version": "3.9.13"
  }
 },
 "nbformat": 4,
 "nbformat_minor": 5
}
