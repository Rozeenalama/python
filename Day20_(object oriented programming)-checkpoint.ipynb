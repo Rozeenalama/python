{
 "cells": [
  {
   "cell_type": "code",
   "execution_count": null,
   "id": "a390cea9",
   "metadata": {},
   "outputs": [],
   "source": [
    "class Information:\n",
    "    def _init_(self,name,age,address):\n",
    "        self.name = name\n",
    "        self.age = age\n",
    "        self.address = address\n",
    "        \n",
    "    def info(this):\n",
    "        print(f\"Hello World I am {this.name}. Iam from {this.address}. Iam {this.age}\")\n",
    "    \n",
    "    \n",
    "obj = Information(\"Rojina\",23,'Bharatpur')\n",
    "obj.info()"
   ]
  },
  {
   "cell_type": "code",
   "execution_count": null,
   "id": "db545cde",
   "metadata": {},
   "outputs": [],
   "source": [
    "class Information:\n",
    "    def _init_(self,name,age,address):\n",
    "        self.name = name\n",
    "        self.age = age\n",
    "        self.address = address\n",
    "        \n",
    "    def info(self):\n",
    "        print(f\"Hello World I am {self.name}. Iam from {self.address}. Iam {self.age}\")\n",
    "    \n",
    "    \n",
    "obj = Information(\"Rojina\",23,'Bharatpur')\n",
    "obj.info()"
   ]
  },
  {
   "cell_type": "code",
   "execution_count": null,
   "id": "3833f9dc",
   "metadata": {},
   "outputs": [],
   "source": [
    "class Information:\n",
    "    def info(self,name,age,address):\n",
    "        self.name = name\n",
    "        self.age = age\n",
    "        self.address = address\n",
    "        \n",
    "    def info(this,phone number):\n",
    "        print(f\"Hello World I am {this.name}. Iam from {this.address}. Iam {this.age}\")\n",
    "    \n",
    "    \n",
    "obj = Information(\"Rojina\",23,'Bharatpur')\n",
    "obj.info(9821888560)"
   ]
  },
  {
   "cell_type": "code",
   "execution_count": null,
   "id": "2a814be8",
   "metadata": {},
   "outputs": [],
   "source": [
    "#_str_ method\n",
    "- return string data types only\n",
    "-  value haru lai return garnu paryo outside the class str use garincha jasle object matrai return garcha \n"
   ]
  },
  {
   "cell_type": "code",
   "execution_count": 3,
   "id": "eff0b346",
   "metadata": {},
   "outputs": [
    {
     "ename": "TypeError",
     "evalue": "Information() takes no arguments",
     "output_type": "error",
     "traceback": [
      "\u001b[1;31m---------------------------------------------------------------------------\u001b[0m",
      "\u001b[1;31mTypeError\u001b[0m                                 Traceback (most recent call last)",
      "\u001b[1;32m~\\AppData\\Local\\Temp\\ipykernel_15852\\3819745488.py\u001b[0m in \u001b[0;36m<module>\u001b[1;34m\u001b[0m\n\u001b[0;32m     14\u001b[0m \u001b[1;33m\u001b[0m\u001b[0m\n\u001b[0;32m     15\u001b[0m \u001b[1;33m\u001b[0m\u001b[0m\n\u001b[1;32m---> 16\u001b[1;33m \u001b[0mobj\u001b[0m \u001b[1;33m=\u001b[0m \u001b[0mInformation\u001b[0m\u001b[1;33m(\u001b[0m\u001b[1;34m\"Rojina\"\u001b[0m\u001b[1;33m,\u001b[0m\u001b[1;36m23\u001b[0m\u001b[1;33m,\u001b[0m\u001b[1;34m'Bharatpur'\u001b[0m\u001b[1;33m)\u001b[0m\u001b[1;33m\u001b[0m\u001b[1;33m\u001b[0m\u001b[0m\n\u001b[0m\u001b[0;32m     17\u001b[0m \u001b[0mprint\u001b[0m\u001b[1;33m(\u001b[0m\u001b[0mtype\u001b[0m\u001b[1;33m(\u001b[0m\u001b[0mobj\u001b[0m\u001b[1;33m.\u001b[0m\u001b[0minfo\u001b[0m\u001b[1;33m(\u001b[0m\u001b[1;33m)\u001b[0m\u001b[1;33m)\u001b[0m\u001b[1;33m)\u001b[0m\u001b[1;33m\u001b[0m\u001b[1;33m\u001b[0m\u001b[0m\n\u001b[0;32m     18\u001b[0m \u001b[0mprint\u001b[0m\u001b[1;33m(\u001b[0m\u001b[0mtype\u001b[0m\u001b[1;33m(\u001b[0m\u001b[0mobj\u001b[0m\u001b[1;33m)\u001b[0m\u001b[1;33m)\u001b[0m\u001b[1;33m\u001b[0m\u001b[1;33m\u001b[0m\u001b[0m\n",
      "\u001b[1;31mTypeError\u001b[0m: Information() takes no arguments"
     ]
    }
   ],
   "source": [
    "class Information:\n",
    "    def info(self,name,age,address):\n",
    "        self.name = name\n",
    "        self.age = age\n",
    "        self.address = address\n",
    "    \n",
    "    \n",
    "    def _str_(self):\n",
    "        return self.name\n",
    "    \n",
    "    def info(this):\n",
    "        return f\"Hello World I am {this.name}. Iam from {this.address}. Iam {this.age}\"\n",
    "    \n",
    "    \n",
    "    \n",
    "obj = Information(\"Rojina\",23,'Bharatpur')\n",
    "print(type(obj.info()))\n",
    "print(type(obj))"
   ]
  },
  {
   "cell_type": "code",
   "execution_count": null,
   "id": "e02fddc9",
   "metadata": {},
   "outputs": [],
   "source": []
  }
 ],
 "metadata": {
  "kernelspec": {
   "display_name": "Python 3 (ipykernel)",
   "language": "python",
   "name": "python3"
  },
  "language_info": {
   "codemirror_mode": {
    "name": "ipython",
    "version": 3
   },
   "file_extension": ".py",
   "mimetype": "text/x-python",
   "name": "python",
   "nbconvert_exporter": "python",
   "pygments_lexer": "ipython3",
   "version": "3.9.13"
  }
 },
 "nbformat": 4,
 "nbformat_minor": 5
}
