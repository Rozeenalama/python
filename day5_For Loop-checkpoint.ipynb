{
 "cells": [
  {
   "cell_type": "raw",
   "id": "8675c5e8",
   "metadata": {},
   "source": [
    "#for loop"
   ]
  },
  {
   "cell_type": "code",
   "execution_count": 1,
   "id": "6abc8918",
   "metadata": {},
   "outputs": [
    {
     "name": "stdout",
     "output_type": "stream",
     "text": [
      "enter c = 2\n",
      "enter n = 43\n",
      "enter n = 44\n"
     ]
    }
   ],
   "source": [
    "c = int(input(\"enter c = \"))\n",
    "for i in range(c):\n",
    "    n = int(input(\"enter n = \"))"
   ]
  },
  {
   "cell_type": "code",
   "execution_count": 2,
   "id": "678665a6",
   "metadata": {},
   "outputs": [
    {
     "name": "stdout",
     "output_type": "stream",
     "text": [
      "enter c = 2\n",
      "enter money = 20\n",
      "20\n",
      "enter money = 20\n",
      "40\n"
     ]
    }
   ],
   "source": [
    "s = 0\n",
    "c = int(input(\"enter c = \"))\n",
    "for i in range(c):\n",
    "    n = int(input(\"enter money = \"))\n",
    "    s = s+n\n",
    "    print(s)"
   ]
  },
  {
   "cell_type": "code",
   "execution_count": 4,
   "id": "3698c9de",
   "metadata": {},
   "outputs": [
    {
     "name": "stdout",
     "output_type": "stream",
     "text": [
      "enter c = 2\n",
      "enter money = 20\n",
      "enter money = 20\n",
      "40\n"
     ]
    }
   ],
   "source": [
    "s = 0\n",
    "c = int(input(\"enter c = \"))\n",
    "for i in range(c):\n",
    "    n = int(input(\"enter money = \"))\n",
    "    s = s+n\n",
    "print(s)"
   ]
  },
  {
   "cell_type": "code",
   "execution_count": 7,
   "id": "6ebf7f51",
   "metadata": {},
   "outputs": [
    {
     "name": "stdout",
     "output_type": "stream",
     "text": [
      "enter c = 2\n",
      "enter name = roji\n",
      "enter name = lama\n",
      "rojilama\n"
     ]
    }
   ],
   "source": [
    "s = str()\n",
    "c = int(input(\"enter c = \"))\n",
    "for i in range(c):\n",
    "    n = input(\"enter name = \")\n",
    "    s = s + n \n",
    "print(s)"
   ]
  },
  {
   "cell_type": "code",
   "execution_count": 8,
   "id": "6b94dca3",
   "metadata": {},
   "outputs": [
    {
     "name": "stdout",
     "output_type": "stream",
     "text": [
      "enter c = 2\n",
      "enter name = roji\n",
      "enter name = lama\n",
      "roji\n",
      "lama\n",
      "\n"
     ]
    }
   ],
   "source": [
    "s = str()\n",
    "c = int(input(\"enter c = \"))\n",
    "for i in range(c):\n",
    "    n = input(\"enter name = \")\n",
    "    s = s + n + \"\\n\"\n",
    "print(s)"
   ]
  },
  {
   "cell_type": "code",
   "execution_count": 13,
   "id": "8a9af05b",
   "metadata": {},
   "outputs": [
    {
     "name": "stdout",
     "output_type": "stream",
     "text": [
      "enter c = 2\n",
      "enter name = roji\n",
      "enter age = 24\n",
      "enter phone = 9821888560\n",
      "enter name = paras\n",
      "enter age = 24\n",
      "enter phone = 9845120250\n",
      "roji 24 9821888560\n",
      "paras 24 9845120250\n",
      "\n"
     ]
    }
   ],
   "source": [
    "s = str()\n",
    "c = int(input(\"enter c = \"))\n",
    "for i in range(c):\n",
    "    name = input(\"enter name = \")\n",
    "    age = input(\"enter age = \")\n",
    "    phone = input(\"enter phone = \")\n",
    "    s = s + name + \" \" + age + \" \" + phone + \"\\n\"\n",
    "print(s)"
   ]
  },
  {
   "cell_type": "code",
   "execution_count": 15,
   "id": "19bff752",
   "metadata": {},
   "outputs": [
    {
     "name": "stdout",
     "output_type": "stream",
     "text": [
      "enter c = 5\n",
      "2\n",
      "4\n",
      "6\n",
      "8\n",
      "10\n"
     ]
    }
   ],
   "source": [
    "#4! = 1*2*3*4\n",
    "s = 2\n",
    "c = int(input(\"enter c = \"))\n",
    "for i in range(1,c+1):\n",
    "    print(s*i)\n",
    "    "
   ]
  },
  {
   "cell_type": "code",
   "execution_count": 17,
   "id": "0174deed",
   "metadata": {},
   "outputs": [
    {
     "name": "stdout",
     "output_type": "stream",
     "text": [
      "enter c = 5\n",
      "120\n"
     ]
    }
   ],
   "source": [
    "#4! = 1*2*3*4\n",
    "s = 1\n",
    "c = int(input(\"enter c = \"))\n",
    "for i in range(1,c+1):\n",
    "    s=s*i\n",
    "print(s)\n",
    "    "
   ]
  },
  {
   "cell_type": "code",
   "execution_count": 1,
   "id": "65e92280",
   "metadata": {},
   "outputs": [
    {
     "name": "stdout",
     "output_type": "stream",
     "text": [
      "enter n1 = 1\n",
      "enter n2 = 10\n",
      "55\n"
     ]
    }
   ],
   "source": [
    "#WAP to calculate the sum of the numbers from n1 to n2\n",
    "\n",
    "s = 0\n",
    "n1 = int(input(\"enter n1 = \"))\n",
    "n2 = int(input(\"enter n2 = \"))\n",
    "for i in range(n1,n2+1):\n",
    "    s = s+i\n",
    "print(s)"
   ]
  },
  {
   "cell_type": "code",
   "execution_count": 2,
   "id": "1d7e0f91",
   "metadata": {},
   "outputs": [
    {
     "name": "stdout",
     "output_type": "stream",
     "text": [
      "enter n1 = 1\n",
      "enter n2 = 3\n",
      "6\n"
     ]
    }
   ],
   "source": [
    "#WAP to calculate the multipication of the numbers from n1 to n2\n",
    "\n",
    "s = 1\n",
    "n1 = int(input(\"enter n1 = \"))\n",
    "n2 = int(input(\"enter n2 = \"))\n",
    "for i in range(n1,n2+1):\n",
    "    s = s*i\n",
    "print(s)"
   ]
  },
  {
   "cell_type": "code",
   "execution_count": null,
   "id": "6e61b918",
   "metadata": {},
   "outputs": [],
   "source": []
  }
 ],
 "metadata": {
  "kernelspec": {
   "display_name": "Python 3 (ipykernel)",
   "language": "python",
   "name": "python3"
  },
  "language_info": {
   "codemirror_mode": {
    "name": "ipython",
    "version": 3
   },
   "file_extension": ".py",
   "mimetype": "text/x-python",
   "name": "python",
   "nbconvert_exporter": "python",
   "pygments_lexer": "ipython3",
   "version": "3.9.13"
  }
 },
 "nbformat": 4,
 "nbformat_minor": 5
}
