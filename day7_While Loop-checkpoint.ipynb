{
 "cells": [
  {
   "cell_type": "code",
   "execution_count": null,
   "id": "125bddcd",
   "metadata": {},
   "outputs": [],
   "source": [
    "# while loop\n",
    "# while <condition>:\n",
    "#     <operation>"
   ]
  },
  {
   "cell_type": "code",
   "execution_count": 3,
   "id": "0e9b0ba6",
   "metadata": {},
   "outputs": [
    {
     "name": "stdout",
     "output_type": "stream",
     "text": [
      "0\n",
      "1\n",
      "2\n",
      "3\n",
      "4\n"
     ]
    }
   ],
   "source": [
    "i = 0\n",
    "while (i<5):\n",
    "    print(i)\n",
    "    i=i+1\n",
    "    "
   ]
  },
  {
   "cell_type": "code",
   "execution_count": 1,
   "id": "5160b89c",
   "metadata": {},
   "outputs": [
    {
     "name": "stdout",
     "output_type": "stream",
     "text": [
      "0\n",
      "1\n",
      "2\n",
      "3\n",
      "4\n",
      "5\n",
      "6\n",
      "7\n",
      "8\n",
      "9\n"
     ]
    }
   ],
   "source": [
    "i=0\n",
    "while(i<10):\n",
    "    print(i)\n",
    "    i=i+1"
   ]
  },
  {
   "cell_type": "code",
   "execution_count": 4,
   "id": "4c41b50e",
   "metadata": {},
   "outputs": [
    {
     "name": "stdout",
     "output_type": "stream",
     "text": [
      "115\n",
      "116\n",
      "117\n",
      "118\n",
      "119\n",
      "hot enough\n"
     ]
    }
   ],
   "source": [
    "temperature=115\n",
    "while(temperature<120):\n",
    "    print(temperature)\n",
    "    temperature=temperature+1\n",
    "print(\"hot enough\")"
   ]
  },
  {
   "cell_type": "code",
   "execution_count": 7,
   "id": "98b8ce81",
   "metadata": {},
   "outputs": [
    {
     "name": "stdout",
     "output_type": "stream",
     "text": [
      "1 hello everyone\n",
      "2 hello everyone\n",
      "3 hello everyone\n",
      "4 hello everyone\n"
     ]
    }
   ],
   "source": [
    "i=1\n",
    "while i<5:\n",
    "    print(i,\"hello everyone\")\n",
    "    i=i+1"
   ]
  },
  {
   "cell_type": "code",
   "execution_count": 8,
   "id": "2257d68d",
   "metadata": {},
   "outputs": [
    {
     "name": "stdout",
     "output_type": "stream",
     "text": [
      "5 hello everyone\n",
      "4 hello everyone\n",
      "3 hello everyone\n",
      "2 hello everyone\n",
      "1 hello everyone\n",
      "0 hello everyone\n"
     ]
    }
   ],
   "source": [
    "i = 5\n",
    "while i>=0:\n",
    "    print(i,\"hello everyone\")\n",
    "    i=i-1"
   ]
  },
  {
   "cell_type": "code",
   "execution_count": 10,
   "id": "d6b6addf",
   "metadata": {},
   "outputs": [
    {
     "name": "stdout",
     "output_type": "stream",
     "text": [
      "0 hello rojina\n",
      "1.5 hello rojina\n",
      "3.0 hello rojina\n",
      "4.5 hello rojina\n"
     ]
    }
   ],
   "source": [
    "i = 0\n",
    "while i<5:\n",
    "    print(i,\"hello rojina\")\n",
    "    i=i+1.5\n",
    "    "
   ]
  },
  {
   "cell_type": "code",
   "execution_count": 11,
   "id": "ce71a3fc",
   "metadata": {},
   "outputs": [
    {
     "name": "stdout",
     "output_type": "stream",
     "text": [
      "enter c = 3\n",
      "3 * 1 = 3\n",
      "3 * 2 = 6\n",
      "3 * 3 = 9\n",
      "3 * 4 = 12\n",
      "3 * 5 = 15\n",
      "3 * 6 = 18\n",
      "3 * 7 = 21\n",
      "3 * 8 = 24\n",
      "3 * 9 = 27\n",
      "3 * 10 = 30\n"
     ]
    }
   ],
   "source": [
    "i =1\n",
    "c = int(input(\"enter c = \"))\n",
    "while i<=10:\n",
    "    print(c,\"*\",i,\"=\",c*i)\n",
    "    i=i+1"
   ]
  },
  {
   "cell_type": "code",
   "execution_count": 15,
   "id": "53dd84cd",
   "metadata": {},
   "outputs": [
    {
     "name": "stdout",
     "output_type": "stream",
     "text": [
      "55\n"
     ]
    }
   ],
   "source": [
    "total = 0     #total = 0 + 1 +2 +3 .....+10\n",
    "i = 1         # i = 2\n",
    "while (i<=10):\n",
    "    total=total+i   # total += i \n",
    "    i = i+1         # i += 1\n",
    "print(total)\n",
    "    "
   ]
  },
  {
   "cell_type": "code",
   "execution_count": 16,
   "id": "876c7372",
   "metadata": {},
   "outputs": [
    {
     "name": "stdout",
     "output_type": "stream",
     "text": [
      "enter c = 2\n",
      "enter x = 11\n",
      "enter x = 12\n",
      "23\n"
     ]
    }
   ],
   "source": [
    "s = 0\n",
    "i = 0\n",
    "c = int(input(\"enter c = \"))\n",
    "while i<c:\n",
    "    x = int(input(\"enter x = \"))\n",
    "    s = s+x\n",
    "    i = i+1\n",
    "print(s)"
   ]
  },
  {
   "cell_type": "code",
   "execution_count": 18,
   "id": "aee3dd02",
   "metadata": {},
   "outputs": [
    {
     "name": "stdout",
     "output_type": "stream",
     "text": [
      "66\n"
     ]
    }
   ],
   "source": [
    "s = 0\n",
    "i = 1\n",
    "while(i<=11):\n",
    "    s = s+i\n",
    "    i = i+1\n",
    "print(s)\n"
   ]
  },
  {
   "cell_type": "code",
   "execution_count": 20,
   "id": "24745943",
   "metadata": {},
   "outputs": [
    {
     "name": "stdout",
     "output_type": "stream",
     "text": [
      "enter c = 3\n",
      "6\n"
     ]
    }
   ],
   "source": [
    "s = 1\n",
    "i = 1\n",
    "c = int(input(\"enter c = \"))\n",
    "while i<=c:\n",
    "    s =s*i\n",
    "    i =i+1\n",
    "print(s)"
   ]
  },
  {
   "cell_type": "code",
   "execution_count": 23,
   "id": "d9944d06",
   "metadata": {},
   "outputs": [
    {
     "name": "stdout",
     "output_type": "stream",
     "text": [
      "enter n1 = 2\n",
      "enter n2 = 8\n",
      "27\n"
     ]
    }
   ],
   "source": [
    "#WAP to calculate the sum of the numbers from n1 to n2\n",
    "\n",
    "s=0\n",
    "n1 = int(input(\"enter n1 = \"))\n",
    "n2 = int(input(\"enter n2 = \"))\n",
    "while(n1<n2):\n",
    "    s = s+n1\n",
    "    n1 = n1+1\n",
    "print(s)"
   ]
  },
  {
   "cell_type": "code",
   "execution_count": 27,
   "id": "b05a154d",
   "metadata": {},
   "outputs": [
    {
     "name": "stdout",
     "output_type": "stream",
     "text": [
      "enter n1 = 22\n",
      "enter n2 = 23\n",
      "506\n"
     ]
    }
   ],
   "source": [
    "#WAP to calculate the multiplication of the numbers from n1 to n2\n",
    "s = 1\n",
    "n1 = int(input(\"enter n1 = \"))\n",
    "n2 = int(input(\"enter n2 = \"))\n",
    "while(n1<=n2):\n",
    "    s = s*n1\n",
    "    n1 = n1+1\n",
    "print(s)"
   ]
  },
  {
   "cell_type": "code",
   "execution_count": 29,
   "id": "efa8b79a",
   "metadata": {},
   "outputs": [
    {
     "name": "stdout",
     "output_type": "stream",
     "text": [
      "python"
     ]
    }
   ],
   "source": [
    "a = \"python\"\n",
    "l = len(a)\n",
    "i = 0\n",
    "while i<l:\n",
    "    print(a[i],end=\"\")\n",
    "    i = i+1"
   ]
  },
  {
   "cell_type": "code",
   "execution_count": 33,
   "id": "dcd690dd",
   "metadata": {},
   "outputs": [
    {
     "name": "stdout",
     "output_type": "stream",
     "text": [
      "helloworldIampython"
     ]
    }
   ],
   "source": [
    "a = \"hello world Iam python\"\n",
    "l = len(a)\n",
    "i = 0\n",
    "while i<l:\n",
    "    if a[i]!=\" \":\n",
    "        print(a[i],end =\"\")\n",
    "    i = i+1"
   ]
  },
  {
   "cell_type": "code",
   "execution_count": 34,
   "id": "65529ccb",
   "metadata": {},
   "outputs": [
    {
     "name": "stdout",
     "output_type": "stream",
     "text": [
      "hello world\n"
     ]
    }
   ],
   "source": [
    "#control statement in while loop\n",
    "while True:\n",
    "    print(\"hello world\")\n",
    "    break"
   ]
  },
  {
   "cell_type": "code",
   "execution_count": 1,
   "id": "4f5721da",
   "metadata": {},
   "outputs": [
    {
     "name": "stdout",
     "output_type": "stream",
     "text": [
      "0\n",
      "1\n",
      "2\n",
      "3\n",
      "4\n"
     ]
    }
   ],
   "source": [
    "a = 0\n",
    "while a<10:\n",
    "    if a == 5:\n",
    "        break\n",
    "    print(a)\n",
    "    a = a+1"
   ]
  },
  {
   "cell_type": "code",
   "execution_count": 2,
   "id": "0119246a",
   "metadata": {},
   "outputs": [
    {
     "name": "stdout",
     "output_type": "stream",
     "text": [
      "0\n",
      "1\n",
      "2\n",
      "3\n",
      "4\n",
      "6\n",
      "7\n",
      "8\n",
      "9\n"
     ]
    }
   ],
   "source": [
    "a = 0\n",
    "while a<10:\n",
    "    if a == 5:\n",
    "        a = a+1\n",
    "        continue\n",
    "    print(a)\n",
    "    a=a+1"
   ]
  },
  {
   "cell_type": "code",
   "execution_count": 3,
   "id": "29c4af50",
   "metadata": {},
   "outputs": [
    {
     "name": "stdout",
     "output_type": "stream",
     "text": [
      "enter n = 2\n",
      "The no is prime\n"
     ]
    }
   ],
   "source": [
    "#for else loop \n",
    "n =int(input(\"enter n = \"))\n",
    "for i in range(2,n):\n",
    "    if n%i==0:\n",
    "        print(\"The no is composite\")\n",
    "        breaks\n",
    "else:\n",
    "    print(\"The no is prime\")"
   ]
  },
  {
   "cell_type": "code",
   "execution_count": null,
   "id": "88fb7d09",
   "metadata": {},
   "outputs": [],
   "source": []
  }
 ],
 "metadata": {
  "kernelspec": {
   "display_name": "Python 3 (ipykernel)",
   "language": "python",
   "name": "python3"
  },
  "language_info": {
   "codemirror_mode": {
    "name": "ipython",
    "version": 3
   },
   "file_extension": ".py",
   "mimetype": "text/x-python",
   "name": "python",
   "nbconvert_exporter": "python",
   "pygments_lexer": "ipython3",
   "version": "3.9.13"
  }
 },
 "nbformat": 4,
 "nbformat_minor": 5
}
