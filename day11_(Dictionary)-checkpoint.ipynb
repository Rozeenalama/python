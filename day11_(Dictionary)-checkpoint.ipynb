{
 "cells": [
  {
   "cell_type": "code",
   "execution_count": null,
   "id": "863a120d",
   "metadata": {},
   "outputs": [],
   "source": [
    "d = {}\n",
    "#d = dict()\n",
    "#d = {<key>:<value>,<key>:<value>,...}\n",
    "# no indexing (0,1,2)"
   ]
  },
  {
   "cell_type": "code",
   "execution_count": null,
   "id": "6718e1b9",
   "metadata": {},
   "outputs": [],
   "source": [
    "# Dictionary\n",
    "# -Indexed\n",
    "# -Ordered\n",
    "# -Multiple and duplicate values\n",
    "# -Mutable"
   ]
  },
  {
   "cell_type": "code",
   "execution_count": 1,
   "id": "d4facbae",
   "metadata": {},
   "outputs": [
    {
     "data": {
      "text/plain": [
       "dict"
      ]
     },
     "execution_count": 1,
     "metadata": {},
     "output_type": "execute_result"
    }
   ],
   "source": [
    "d = {'a':'Apple','b':'Ball','c':'Cat'}\n",
    "type(d)"
   ]
  },
  {
   "cell_type": "code",
   "execution_count": null,
   "id": "433bb592",
   "metadata": {},
   "outputs": [],
   "source": [
    "d = {'a':'Apple','b':'Ball','c':'Cat'}\n",
    "print(d['a'])\n",
    "print(d['b'])\n",
    "print(d['c'])"
   ]
  }
 ],
 "metadata": {
  "kernelspec": {
   "display_name": "Python 3 (ipykernel)",
   "language": "python",
   "name": "python3"
  },
  "language_info": {
   "codemirror_mode": {
    "name": "ipython",
    "version": 3
   },
   "file_extension": ".py",
   "mimetype": "text/x-python",
   "name": "python",
   "nbconvert_exporter": "python",
   "pygments_lexer": "ipython3",
   "version": "3.9.13"
  }
 },
 "nbformat": 4,
 "nbformat_minor": 5
}
