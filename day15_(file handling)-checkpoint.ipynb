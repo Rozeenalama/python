{
 "cells": [
  {
   "cell_type": "code",
   "execution_count": null,
   "id": "da90a0c8",
   "metadata": {},
   "outputs": [],
   "source": [
    "# file = open('<file_name>','<mode>')   # file=object\n",
    "# file.close()\n",
    " \n",
    "# with open('<file_name>','<mode>') as file:\n",
    "#     <operation>\n"
   ]
  },
  {
   "cell_type": "code",
   "execution_count": 1,
   "id": "c23ff74f",
   "metadata": {},
   "outputs": [],
   "source": [
    "try:                 #kunai code lai test garna try bhitra rakhincha\n",
    "file = open('data.txt','x')   #x = creating file\n",
    "file.close()\n",
    "except:              #if error occur in try except is done then exception catch garcha\n",
    "    print(\"The file is already created\")"
   ]
  },
  {
   "cell_type": "code",
   "execution_count": null,
   "id": "cccdcb13",
   "metadata": {},
   "outputs": [],
   "source": [
    "#mode\n",
    "# r -> read\n",
    "# w -> write\n",
    "# a ->append\n",
    "# x ->create"
   ]
  },
  {
   "cell_type": "code",
   "execution_count": 8,
   "id": "1bb9cf0f",
   "metadata": {},
   "outputs": [
    {
     "name": "stdout",
     "output_type": "stream",
     "text": [
      "1.Hello Rojina\n",
      "2.Hello Rojina\n",
      "3.Hello Rojina\n",
      "4.Hello Rojina\n",
      "5.Hello Rojina\n",
      "6.Hello Rojina\n",
      "\n"
     ]
    }
   ],
   "source": [
    "with open ('data.txt','r') as file:\n",
    "    print(file.read())"
   ]
  },
  {
   "cell_type": "code",
   "execution_count": 7,
   "id": "46aacc97",
   "metadata": {},
   "outputs": [
    {
     "name": "stdout",
     "output_type": "stream",
     "text": [
      "1.Hello Rojina\n",
      "2.Hello Rojina\n",
      "3.Hello Rojina\n",
      "4.Hello Rojina\n",
      "5.Hello Rojina\n",
      "6.Hello Rojina\n",
      "\n"
     ]
    }
   ],
   "source": [
    "file = open('data.txt','r')\n",
    "print(file.read())\n",
    "file.close()\n"
   ]
  },
  {
   "cell_type": "code",
   "execution_count": 9,
   "id": "74baf12e",
   "metadata": {},
   "outputs": [
    {
     "name": "stdout",
     "output_type": "stream",
     "text": [
      "1.Hello Rojina\n",
      "2.Hello Rojina\n",
      "3.Hello Rojina\n",
      "4.Hello Rojina\n",
      "5.Hello Rojina\n",
      "6.Hello Rojina\n",
      "\n",
      "<class 'str'>\n"
     ]
    }
   ],
   "source": [
    "file = open('data.txt','r')\n",
    "x = (file.read())\n",
    "print(x)\n",
    "print(type(x))\n",
    "file.close()\n"
   ]
  },
  {
   "cell_type": "code",
   "execution_count": 10,
   "id": "7b57f000",
   "metadata": {},
   "outputs": [
    {
     "data": {
      "text/plain": [
       "['1.Hello Rojina',\n",
       " '2.Hello Rojina',\n",
       " '3.Hello Rojina',\n",
       " '4.Hello Rojina',\n",
       " '5.Hello Rojina',\n",
       " '6.Hello Rojina',\n",
       " '']"
      ]
     },
     "execution_count": 10,
     "metadata": {},
     "output_type": "execute_result"
    }
   ],
   "source": [
    "lists = x.split('\\n')\n",
    "lists"
   ]
  },
  {
   "cell_type": "code",
   "execution_count": 13,
   "id": "88d29031",
   "metadata": {},
   "outputs": [
    {
     "name": "stdout",
     "output_type": "stream",
     "text": [
      "enter line no = 2\n"
     ]
    },
    {
     "data": {
      "text/plain": [
       "'2.Hello Rojina'"
      ]
     },
     "execution_count": 13,
     "metadata": {},
     "output_type": "execute_result"
    }
   ],
   "source": [
    "line_no = int(input(\"enter line no = \"))\n",
    "lists[line_no-1]\n"
   ]
  },
  {
   "cell_type": "code",
   "execution_count": 1,
   "id": "20557a15",
   "metadata": {},
   "outputs": [],
   "source": [
    "file = open('data.txt','w')\n",
    "file.write(\"6.Hello Rojina\")\n",
    "file.close()"
   ]
  },
  {
   "cell_type": "code",
   "execution_count": 2,
   "id": "00b06799",
   "metadata": {},
   "outputs": [],
   "source": [
    "file = open('data.txt','a')\n",
    "file.write(\"\\n7.Hello Rojina\")\n",
    "file.close()"
   ]
  },
  {
   "cell_type": "code",
   "execution_count": 3,
   "id": "77ac3223",
   "metadata": {},
   "outputs": [
    {
     "name": "stdout",
     "output_type": "stream",
     "text": [
      "enter n = 2\n",
      "enter name = momo\n",
      "enter price = 100\n",
      "enter quantity = 2\n",
      "enter name = coke\n",
      "enter price = 80\n",
      "enter quantity = 2\n",
      "momo 100 2 200\n",
      "coke 80 2 160\n",
      "\n",
      "The grand total with vat 13% 406.79999999999995\n"
     ]
    }
   ],
   "source": [
    "bill = str()\n",
    "grand_total = 0\n",
    "n = int(input(\"enter n = \"))\n",
    "for i in range(n):\n",
    "    name = input(\"enter name = \")\n",
    "    price = int(input(\"enter price = \"))\n",
    "    quantity = int(input(\"enter quantity = \"))\n",
    "    total = price*quantity\n",
    "    bill = bill + f\"{name} {price} {quantity} {total}\\n\"\n",
    "    grand_total = grand_total + total\n",
    "print(bill)\n",
    "print(\"The grand total with vat 13%\",grand_total*1.13)\n",
    "\n",
    "file = open('bill.txt','w')      #direct create bhayera basxa file \n",
    "file.write(bill)\n",
    "file.close()\n"
   ]
  },
  {
   "cell_type": "code",
   "execution_count": 4,
   "id": "c924c50a",
   "metadata": {},
   "outputs": [
    {
     "name": "stdout",
     "output_type": "stream",
     "text": [
      "enter n = 2\n",
      "enter name = cake\n",
      "enter price = 40\n",
      "enter quantity = 2\n",
      "enter name = coffee\n",
      "enter price = 50\n",
      "enter quantity = 2\n",
      "cake 40 2 80\n",
      "coffee 50 2 100\n",
      "\n",
      "The grand total with vat 13% 203.39999999999998\n"
     ]
    }
   ],
   "source": [
    "bill = str()\n",
    "grand_total = 0\n",
    "n = int(input(\"enter n = \"))\n",
    "for i in range(n):\n",
    "    name = input(\"enter name = \")\n",
    "    price = int(input(\"enter price = \"))\n",
    "    quantity = int(input(\"enter quantity = \"))\n",
    "    total = price*quantity\n",
    "    bill = bill + f\"{name} {price} {quantity} {total}\\n\"\n",
    "    grand_total = grand_total + total\n",
    "print(bill)\n",
    "print(\"The grand total with vat 13%\",grand_total*1.13)\n",
    "\n",
    "file = open('bill.txt','a')      #direct create bhayera basxa file \n",
    "file.write(bill)\n",
    "file.close()\n"
   ]
  },
  {
   "cell_type": "code",
   "execution_count": 5,
   "id": "7b65c4a9",
   "metadata": {},
   "outputs": [
    {
     "name": "stdout",
     "output_type": "stream",
     "text": [
      "momo 100 2 200\n",
      "coke 80 2 160\n",
      "cake 40 2 80\n",
      "coffee 50 2 100\n",
      "\n",
      "<class 'str'>\n"
     ]
    }
   ],
   "source": [
    "file = open('bill.txt','r')\n",
    "x = (file.read())\n",
    "print(x)\n",
    "print(type(x))\n",
    "file.close()\n"
   ]
  },
  {
   "cell_type": "code",
   "execution_count": 6,
   "id": "20cb5e96",
   "metadata": {},
   "outputs": [
    {
     "data": {
      "text/plain": [
       "['momo 100 2 200', 'coke 80 2 160', 'cake 40 2 80', 'coffee 50 2 100', '']"
      ]
     },
     "execution_count": 6,
     "metadata": {},
     "output_type": "execute_result"
    }
   ],
   "source": [
    "data = x.split('\\n')\n",
    "data"
   ]
  },
  {
   "cell_type": "code",
   "execution_count": 7,
   "id": "91e717f7",
   "metadata": {},
   "outputs": [
    {
     "data": {
      "text/plain": [
       "['momo 100 2 200', 'coke 80 2 160', 'cake 40 2 80', 'coffee 50 2 100']"
      ]
     },
     "execution_count": 7,
     "metadata": {},
     "output_type": "execute_result"
    }
   ],
   "source": [
    "data = x.split('\\n')[0:-1]\n",
    "data"
   ]
  },
  {
   "cell_type": "code",
   "execution_count": 8,
   "id": "c803ec0d",
   "metadata": {},
   "outputs": [
    {
     "name": "stdout",
     "output_type": "stream",
     "text": [
      "['momo', '100', '2', '200']\n",
      "['coke', '80', '2', '160']\n",
      "['cake', '40', '2', '80']\n",
      "['coffee', '50', '2', '100']\n"
     ]
    }
   ],
   "source": [
    "for i in data:\n",
    "    print(i.split())"
   ]
  },
  {
   "cell_type": "code",
   "execution_count": 11,
   "id": "2d5ae91d",
   "metadata": {},
   "outputs": [
    {
     "data": {
      "text/plain": [
       "[['momo', 100, 2, 200],\n",
       " ['coke', 80, 2, 160],\n",
       " ['cake', 40, 2, 80],\n",
       " ['coffee', 50, 2, 100]]"
      ]
     },
     "execution_count": 11,
     "metadata": {},
     "output_type": "execute_result"
    }
   ],
   "source": [
    "#To convert string to integer\n",
    "bill_list = []\n",
    "for i in data:\n",
    "    name = i.split()[0]\n",
    "    price = int(i.split()[1])\n",
    "    quantity = int(i.split()[2])\n",
    "    total = int(i.split()[3])\n",
    "    final_list = [name,price,quantity,total]\n",
    "    bill_list.append(final_list)\n",
    "\n",
    "bill_list"
   ]
  },
  {
   "cell_type": "code",
   "execution_count": 12,
   "id": "10ece374",
   "metadata": {},
   "outputs": [
    {
     "name": "stdout",
     "output_type": "stream",
     "text": [
      "enter n = 2\n",
      "enter name = momo\n",
      "enter price = 200\n",
      "enter quantity = 2\n",
      "enter name = coke\n",
      "enter price = 200\n",
      "enter quantity = 2\n",
      "momo,200,2,400\n",
      "coke,200,2,400\n",
      "\n",
      "The grand total with vat 13% 903.9999999999999\n"
     ]
    }
   ],
   "source": [
    "# For CSV (Comma Separated Value)     to handle large column,row\n",
    "file = open('bill.csv','w')  \n",
    "bill = str()\n",
    "grand_total = 0\n",
    "n = int(input(\"enter n = \"))\n",
    "for i in range(n):\n",
    "    name = input(\"enter name = \")\n",
    "    price = int(input(\"enter price = \"))\n",
    "    quantity = int(input(\"enter quantity = \"))\n",
    "    total = price*quantity\n",
    "    bill = bill + f\"{name},{price},{quantity},{total}\\n\"\n",
    "    grand_total = grand_total + total\n",
    "print(bill)\n",
    "print(\"The grand total with vat 13%\",grand_total*1.13)\n",
    "\n",
    "file.write('Name,Price,Quantity,Total)     #direct create bhayera basxa file \n",
    "file.write(bill)\n",
    "file.close()\n"
   ]
  },
  {
   "cell_type": "code",
   "execution_count": null,
   "id": "04b59668",
   "metadata": {},
   "outputs": [],
   "source": [
    "pwd"
   ]
  },
  {
   "cell_type": "code",
   "execution_count": null,
   "id": "d4262f88",
   "metadata": {},
   "outputs": [],
   "source": [
    "import pandas as pd\n",
    "df = pd.read_csv('bill_csv')\n",
    "df"
   ]
  }
 ],
 "metadata": {
  "kernelspec": {
   "display_name": "Python 3 (ipykernel)",
   "language": "python",
   "name": "python3"
  },
  "language_info": {
   "codemirror_mode": {
    "name": "ipython",
    "version": 3
   },
   "file_extension": ".py",
   "mimetype": "text/x-python",
   "name": "python",
   "nbconvert_exporter": "python",
   "pygments_lexer": "ipython3",
   "version": "3.9.13"
  }
 },
 "nbformat": 4,
 "nbformat_minor": 5
}
