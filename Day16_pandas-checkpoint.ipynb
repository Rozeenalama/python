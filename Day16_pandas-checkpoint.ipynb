{
 "cells": [
  {
   "cell_type": "code",
   "execution_count": null,
   "id": "84a98db5",
   "metadata": {},
   "outputs": [],
   "source": [
    "CSV (comma separated value)\n",
    "file extension\n",
    "#pandas - package\n",
    "#data frame - pandas data type"
   ]
  },
  {
   "cell_type": "code",
   "execution_count": 1,
   "id": "5bb88a4a",
   "metadata": {},
   "outputs": [],
   "source": [
    "file = open('data.csv','x')\n",
    "file.close()"
   ]
  },
  {
   "cell_type": "code",
   "execution_count": null,
   "id": "f50bfd0a",
   "metadata": {},
   "outputs": [],
   "source": [
    "#pip install pandas"
   ]
  },
  {
   "cell_type": "code",
   "execution_count": 6,
   "id": "851b868b",
   "metadata": {},
   "outputs": [
    {
     "data": {
      "text/html": [
       "<div>\n",
       "<style scoped>\n",
       "    .dataframe tbody tr th:only-of-type {\n",
       "        vertical-align: middle;\n",
       "    }\n",
       "\n",
       "    .dataframe tbody tr th {\n",
       "        vertical-align: top;\n",
       "    }\n",
       "\n",
       "    .dataframe thead th {\n",
       "        text-align: right;\n",
       "    }\n",
       "</style>\n",
       "<table border=\"1\" class=\"dataframe\">\n",
       "  <thead>\n",
       "    <tr style=\"text-align: right;\">\n",
       "      <th></th>\n",
       "      <th>sn</th>\n",
       "      <th>name</th>\n",
       "      <th>age</th>\n",
       "      <th>address</th>\n",
       "      <th>phone</th>\n",
       "    </tr>\n",
       "  </thead>\n",
       "  <tbody>\n",
       "    <tr>\n",
       "      <th>0</th>\n",
       "      <td>1</td>\n",
       "      <td>rojina</td>\n",
       "      <td>23</td>\n",
       "      <td>kalyanpur</td>\n",
       "      <td>9821888560</td>\n",
       "    </tr>\n",
       "    <tr>\n",
       "      <th>1</th>\n",
       "      <td>2</td>\n",
       "      <td>paras</td>\n",
       "      <td>23</td>\n",
       "      <td>tadi</td>\n",
       "      <td>9845120250</td>\n",
       "    </tr>\n",
       "    <tr>\n",
       "      <th>2</th>\n",
       "      <td>3</td>\n",
       "      <td>riya</td>\n",
       "      <td>19</td>\n",
       "      <td>mangalpur</td>\n",
       "      <td>9876543210</td>\n",
       "    </tr>\n",
       "    <tr>\n",
       "      <th>3</th>\n",
       "      <td>4</td>\n",
       "      <td>bimala</td>\n",
       "      <td>43</td>\n",
       "      <td>kalyanpur</td>\n",
       "      <td>9845271769</td>\n",
       "    </tr>\n",
       "    <tr>\n",
       "      <th>4</th>\n",
       "      <td>5</td>\n",
       "      <td>ganesh</td>\n",
       "      <td>50</td>\n",
       "      <td>kalyanpur</td>\n",
       "      <td>9845138429</td>\n",
       "    </tr>\n",
       "    <tr>\n",
       "      <th>5</th>\n",
       "      <td>6</td>\n",
       "      <td>suchak</td>\n",
       "      <td>19</td>\n",
       "      <td>parsa</td>\n",
       "      <td>9807865432</td>\n",
       "    </tr>\n",
       "  </tbody>\n",
       "</table>\n",
       "</div>"
      ],
      "text/plain": [
       "   sn    name  age    address       phone\n",
       "0   1  rojina   23  kalyanpur  9821888560\n",
       "1   2   paras   23       tadi  9845120250\n",
       "2   3    riya   19  mangalpur  9876543210\n",
       "3   4  bimala   43  kalyanpur  9845271769\n",
       "4   5  ganesh   50  kalyanpur  9845138429\n",
       "5   6  suchak   19      parsa  9807865432"
      ]
     },
     "execution_count": 6,
     "metadata": {},
     "output_type": "execute_result"
    }
   ],
   "source": [
    "import pandas as pd      #read garna\n",
    "df = pd.read_csv('data.csv')\n",
    "df"
   ]
  },
  {
   "cell_type": "code",
   "execution_count": 7,
   "id": "fd361fc9",
   "metadata": {},
   "outputs": [
    {
     "data": {
      "text/html": [
       "<div>\n",
       "<style scoped>\n",
       "    .dataframe tbody tr th:only-of-type {\n",
       "        vertical-align: middle;\n",
       "    }\n",
       "\n",
       "    .dataframe tbody tr th {\n",
       "        vertical-align: top;\n",
       "    }\n",
       "\n",
       "    .dataframe thead th {\n",
       "        text-align: right;\n",
       "    }\n",
       "</style>\n",
       "<table border=\"1\" class=\"dataframe\">\n",
       "  <thead>\n",
       "    <tr style=\"text-align: right;\">\n",
       "      <th></th>\n",
       "      <th>sn</th>\n",
       "      <th>name</th>\n",
       "      <th>age</th>\n",
       "      <th>address</th>\n",
       "      <th>phone</th>\n",
       "    </tr>\n",
       "  </thead>\n",
       "  <tbody>\n",
       "    <tr>\n",
       "      <th>0</th>\n",
       "      <td>1</td>\n",
       "      <td>rojina</td>\n",
       "      <td>23</td>\n",
       "      <td>kalyanpur</td>\n",
       "      <td>9821888560</td>\n",
       "    </tr>\n",
       "    <tr>\n",
       "      <th>1</th>\n",
       "      <td>2</td>\n",
       "      <td>paras</td>\n",
       "      <td>23</td>\n",
       "      <td>tadi</td>\n",
       "      <td>9845120250</td>\n",
       "    </tr>\n",
       "    <tr>\n",
       "      <th>2</th>\n",
       "      <td>3</td>\n",
       "      <td>riya</td>\n",
       "      <td>19</td>\n",
       "      <td>mangalpur</td>\n",
       "      <td>9876543210</td>\n",
       "    </tr>\n",
       "    <tr>\n",
       "      <th>3</th>\n",
       "      <td>4</td>\n",
       "      <td>bimala</td>\n",
       "      <td>43</td>\n",
       "      <td>kalyanpur</td>\n",
       "      <td>9845271769</td>\n",
       "    </tr>\n",
       "    <tr>\n",
       "      <th>4</th>\n",
       "      <td>5</td>\n",
       "      <td>ganesh</td>\n",
       "      <td>50</td>\n",
       "      <td>kalyanpur</td>\n",
       "      <td>9845138429</td>\n",
       "    </tr>\n",
       "  </tbody>\n",
       "</table>\n",
       "</div>"
      ],
      "text/plain": [
       "   sn    name  age    address       phone\n",
       "0   1  rojina   23  kalyanpur  9821888560\n",
       "1   2   paras   23       tadi  9845120250\n",
       "2   3    riya   19  mangalpur  9876543210\n",
       "3   4  bimala   43  kalyanpur  9845271769\n",
       "4   5  ganesh   50  kalyanpur  9845138429"
      ]
     },
     "execution_count": 7,
     "metadata": {},
     "output_type": "execute_result"
    }
   ],
   "source": [
    "#to read row\n",
    "import pandas as pd      \n",
    "df = pd.read_csv('data.csv',nrows = 5)\n",
    "df"
   ]
  },
  {
   "cell_type": "code",
   "execution_count": 8,
   "id": "ce4adb37",
   "metadata": {},
   "outputs": [
    {
     "data": {
      "text/html": [
       "<div>\n",
       "<style scoped>\n",
       "    .dataframe tbody tr th:only-of-type {\n",
       "        vertical-align: middle;\n",
       "    }\n",
       "\n",
       "    .dataframe tbody tr th {\n",
       "        vertical-align: top;\n",
       "    }\n",
       "\n",
       "    .dataframe thead th {\n",
       "        text-align: right;\n",
       "    }\n",
       "</style>\n",
       "<table border=\"1\" class=\"dataframe\">\n",
       "  <thead>\n",
       "    <tr style=\"text-align: right;\">\n",
       "      <th></th>\n",
       "      <th>sn</th>\n",
       "      <th>name</th>\n",
       "      <th>age</th>\n",
       "      <th>address</th>\n",
       "      <th>phone</th>\n",
       "    </tr>\n",
       "  </thead>\n",
       "  <tbody>\n",
       "    <tr>\n",
       "      <th>0</th>\n",
       "      <td>1</td>\n",
       "      <td>rojina</td>\n",
       "      <td>23</td>\n",
       "      <td>kalyanpur</td>\n",
       "      <td>9821888560</td>\n",
       "    </tr>\n",
       "    <tr>\n",
       "      <th>1</th>\n",
       "      <td>2</td>\n",
       "      <td>paras</td>\n",
       "      <td>23</td>\n",
       "      <td>tadi</td>\n",
       "      <td>9845120250</td>\n",
       "    </tr>\n",
       "    <tr>\n",
       "      <th>2</th>\n",
       "      <td>3</td>\n",
       "      <td>riya</td>\n",
       "      <td>19</td>\n",
       "      <td>mangalpur</td>\n",
       "      <td>9876543210</td>\n",
       "    </tr>\n",
       "    <tr>\n",
       "      <th>3</th>\n",
       "      <td>4</td>\n",
       "      <td>bimala</td>\n",
       "      <td>43</td>\n",
       "      <td>kalyanpur</td>\n",
       "      <td>9845271769</td>\n",
       "    </tr>\n",
       "    <tr>\n",
       "      <th>4</th>\n",
       "      <td>5</td>\n",
       "      <td>ganesh</td>\n",
       "      <td>50</td>\n",
       "      <td>kalyanpur</td>\n",
       "      <td>9845138429</td>\n",
       "    </tr>\n",
       "  </tbody>\n",
       "</table>\n",
       "</div>"
      ],
      "text/plain": [
       "   sn    name  age    address       phone\n",
       "0   1  rojina   23  kalyanpur  9821888560\n",
       "1   2   paras   23       tadi  9845120250\n",
       "2   3    riya   19  mangalpur  9876543210\n",
       "3   4  bimala   43  kalyanpur  9845271769\n",
       "4   5  ganesh   50  kalyanpur  9845138429"
      ]
     },
     "execution_count": 8,
     "metadata": {},
     "output_type": "execute_result"
    }
   ],
   "source": [
    "#to read rows another step\n",
    "import pandas as pd\n",
    "df = pd.read_csv('data.csv')\n",
    "df.head()   #head le default rup ma 5 ota matrai garcha value"
   ]
  },
  {
   "cell_type": "code",
   "execution_count": 9,
   "id": "180982be",
   "metadata": {},
   "outputs": [
    {
     "data": {
      "text/html": [
       "<div>\n",
       "<style scoped>\n",
       "    .dataframe tbody tr th:only-of-type {\n",
       "        vertical-align: middle;\n",
       "    }\n",
       "\n",
       "    .dataframe tbody tr th {\n",
       "        vertical-align: top;\n",
       "    }\n",
       "\n",
       "    .dataframe thead th {\n",
       "        text-align: right;\n",
       "    }\n",
       "</style>\n",
       "<table border=\"1\" class=\"dataframe\">\n",
       "  <thead>\n",
       "    <tr style=\"text-align: right;\">\n",
       "      <th></th>\n",
       "      <th>name</th>\n",
       "      <th>age</th>\n",
       "      <th>address</th>\n",
       "      <th>phone</th>\n",
       "    </tr>\n",
       "    <tr>\n",
       "      <th>sn</th>\n",
       "      <th></th>\n",
       "      <th></th>\n",
       "      <th></th>\n",
       "      <th></th>\n",
       "    </tr>\n",
       "  </thead>\n",
       "  <tbody>\n",
       "    <tr>\n",
       "      <th>1</th>\n",
       "      <td>rojina</td>\n",
       "      <td>23</td>\n",
       "      <td>kalyanpur</td>\n",
       "      <td>9821888560</td>\n",
       "    </tr>\n",
       "    <tr>\n",
       "      <th>2</th>\n",
       "      <td>paras</td>\n",
       "      <td>23</td>\n",
       "      <td>tadi</td>\n",
       "      <td>9845120250</td>\n",
       "    </tr>\n",
       "    <tr>\n",
       "      <th>3</th>\n",
       "      <td>riya</td>\n",
       "      <td>19</td>\n",
       "      <td>mangalpur</td>\n",
       "      <td>9876543210</td>\n",
       "    </tr>\n",
       "    <tr>\n",
       "      <th>4</th>\n",
       "      <td>bimala</td>\n",
       "      <td>43</td>\n",
       "      <td>kalyanpur</td>\n",
       "      <td>9845271769</td>\n",
       "    </tr>\n",
       "    <tr>\n",
       "      <th>5</th>\n",
       "      <td>ganesh</td>\n",
       "      <td>50</td>\n",
       "      <td>kalyanpur</td>\n",
       "      <td>9845138429</td>\n",
       "    </tr>\n",
       "  </tbody>\n",
       "</table>\n",
       "</div>"
      ],
      "text/plain": [
       "      name  age    address       phone\n",
       "sn                                    \n",
       "1   rojina   23  kalyanpur  9821888560\n",
       "2    paras   23       tadi  9845120250\n",
       "3     riya   19  mangalpur  9876543210\n",
       "4   bimala   43  kalyanpur  9845271769\n",
       "5   ganesh   50  kalyanpur  9845138429"
      ]
     },
     "execution_count": 9,
     "metadata": {},
     "output_type": "execute_result"
    }
   ],
   "source": [
    "import pandas as pd\n",
    "df = pd.read_csv('data.csv',index_col = 'sn')\n",
    "df.head()\n",
    "#df.tail()   data ko sample herya"
   ]
  },
  {
   "cell_type": "code",
   "execution_count": 10,
   "id": "f5058774",
   "metadata": {},
   "outputs": [
    {
     "data": {
      "text/html": [
       "<div>\n",
       "<style scoped>\n",
       "    .dataframe tbody tr th:only-of-type {\n",
       "        vertical-align: middle;\n",
       "    }\n",
       "\n",
       "    .dataframe tbody tr th {\n",
       "        vertical-align: top;\n",
       "    }\n",
       "\n",
       "    .dataframe thead th {\n",
       "        text-align: right;\n",
       "    }\n",
       "</style>\n",
       "<table border=\"1\" class=\"dataframe\">\n",
       "  <thead>\n",
       "    <tr style=\"text-align: right;\">\n",
       "      <th></th>\n",
       "      <th>name</th>\n",
       "      <th>phone</th>\n",
       "    </tr>\n",
       "    <tr>\n",
       "      <th>sn</th>\n",
       "      <th></th>\n",
       "      <th></th>\n",
       "    </tr>\n",
       "  </thead>\n",
       "  <tbody>\n",
       "    <tr>\n",
       "      <th>1</th>\n",
       "      <td>rojina</td>\n",
       "      <td>9821888560</td>\n",
       "    </tr>\n",
       "    <tr>\n",
       "      <th>2</th>\n",
       "      <td>paras</td>\n",
       "      <td>9845120250</td>\n",
       "    </tr>\n",
       "    <tr>\n",
       "      <th>3</th>\n",
       "      <td>riya</td>\n",
       "      <td>9876543210</td>\n",
       "    </tr>\n",
       "    <tr>\n",
       "      <th>4</th>\n",
       "      <td>bimala</td>\n",
       "      <td>9845271769</td>\n",
       "    </tr>\n",
       "    <tr>\n",
       "      <th>5</th>\n",
       "      <td>ganesh</td>\n",
       "      <td>9845138429</td>\n",
       "    </tr>\n",
       "  </tbody>\n",
       "</table>\n",
       "</div>"
      ],
      "text/plain": [
       "      name       phone\n",
       "sn                    \n",
       "1   rojina  9821888560\n",
       "2    paras  9845120250\n",
       "3     riya  9876543210\n",
       "4   bimala  9845271769\n",
       "5   ganesh  9845138429"
      ]
     },
     "execution_count": 10,
     "metadata": {},
     "output_type": "execute_result"
    }
   ],
   "source": [
    "#can choice which column to use                  #cols = variable\n",
    "import pandas as pd\n",
    "df = pd.read_csv('data.csv',index_col = 'sn',usecols = ['sn','name','phone'])\n",
    "df.head()"
   ]
  },
  {
   "cell_type": "code",
   "execution_count": 3,
   "id": "924087a8",
   "metadata": {},
   "outputs": [
    {
     "data": {
      "text/html": [
       "<div>\n",
       "<style scoped>\n",
       "    .dataframe tbody tr th:only-of-type {\n",
       "        vertical-align: middle;\n",
       "    }\n",
       "\n",
       "    .dataframe tbody tr th {\n",
       "        vertical-align: top;\n",
       "    }\n",
       "\n",
       "    .dataframe thead th {\n",
       "        text-align: right;\n",
       "    }\n",
       "</style>\n",
       "<table border=\"1\" class=\"dataframe\">\n",
       "  <thead>\n",
       "    <tr style=\"text-align: right;\">\n",
       "      <th></th>\n",
       "      <th>name</th>\n",
       "      <th>phone</th>\n",
       "    </tr>\n",
       "    <tr>\n",
       "      <th>sn</th>\n",
       "      <th></th>\n",
       "      <th></th>\n",
       "    </tr>\n",
       "  </thead>\n",
       "  <tbody>\n",
       "    <tr>\n",
       "      <th>2</th>\n",
       "      <td>paras</td>\n",
       "      <td>9845120250</td>\n",
       "    </tr>\n",
       "    <tr>\n",
       "      <th>3</th>\n",
       "      <td>riya</td>\n",
       "      <td>9876543210</td>\n",
       "    </tr>\n",
       "    <tr>\n",
       "      <th>4</th>\n",
       "      <td>bimala</td>\n",
       "      <td>9845271769</td>\n",
       "    </tr>\n",
       "  </tbody>\n",
       "</table>\n",
       "</div>"
      ],
      "text/plain": [
       "      name       phone\n",
       "sn                    \n",
       "2    paras  9845120250\n",
       "3     riya  9876543210\n",
       "4   bimala  9845271769"
      ]
     },
     "execution_count": 3,
     "metadata": {},
     "output_type": "execute_result"
    }
   ],
   "source": [
    "#to select row using iloc \n",
    "import pandas as pd\n",
    "df = pd.read_csv('data.csv',index_col = 'sn',usecols = ['sn','name','phone'])\n",
    "df.iloc[1:4]  # index = 1,2,3"
   ]
  },
  {
   "cell_type": "code",
   "execution_count": 2,
   "id": "1db34de3",
   "metadata": {},
   "outputs": [
    {
     "data": {
      "text/html": [
       "<div>\n",
       "<style scoped>\n",
       "    .dataframe tbody tr th:only-of-type {\n",
       "        vertical-align: middle;\n",
       "    }\n",
       "\n",
       "    .dataframe tbody tr th {\n",
       "        vertical-align: top;\n",
       "    }\n",
       "\n",
       "    .dataframe thead th {\n",
       "        text-align: right;\n",
       "    }\n",
       "</style>\n",
       "<table border=\"1\" class=\"dataframe\">\n",
       "  <thead>\n",
       "    <tr style=\"text-align: right;\">\n",
       "      <th></th>\n",
       "      <th>name</th>\n",
       "      <th>age</th>\n",
       "      <th>address</th>\n",
       "    </tr>\n",
       "    <tr>\n",
       "      <th>sn</th>\n",
       "      <th></th>\n",
       "      <th></th>\n",
       "      <th></th>\n",
       "    </tr>\n",
       "  </thead>\n",
       "  <tbody>\n",
       "    <tr>\n",
       "      <th>2</th>\n",
       "      <td>paras</td>\n",
       "      <td>23</td>\n",
       "      <td>tadi</td>\n",
       "    </tr>\n",
       "    <tr>\n",
       "      <th>3</th>\n",
       "      <td>riya</td>\n",
       "      <td>19</td>\n",
       "      <td>mangalpur</td>\n",
       "    </tr>\n",
       "    <tr>\n",
       "      <th>4</th>\n",
       "      <td>bimala</td>\n",
       "      <td>43</td>\n",
       "      <td>kalyanpur</td>\n",
       "    </tr>\n",
       "  </tbody>\n",
       "</table>\n",
       "</div>"
      ],
      "text/plain": [
       "      name  age    address\n",
       "sn                        \n",
       "2    paras   23       tadi\n",
       "3     riya   19  mangalpur\n",
       "4   bimala   43  kalyanpur"
      ]
     },
     "execution_count": 2,
     "metadata": {},
     "output_type": "execute_result"
    }
   ],
   "source": [
    "import pandas as pd\n",
    "df = pd.read_csv('data.csv',index_col = 'sn')\n",
    "df.iloc[1:4,0:3]   "
   ]
  },
  {
   "cell_type": "code",
   "execution_count": 4,
   "id": "5180d2a2",
   "metadata": {},
   "outputs": [
    {
     "data": {
      "text/html": [
       "<div>\n",
       "<style scoped>\n",
       "    .dataframe tbody tr th:only-of-type {\n",
       "        vertical-align: middle;\n",
       "    }\n",
       "\n",
       "    .dataframe tbody tr th {\n",
       "        vertical-align: top;\n",
       "    }\n",
       "\n",
       "    .dataframe thead th {\n",
       "        text-align: right;\n",
       "    }\n",
       "</style>\n",
       "<table border=\"1\" class=\"dataframe\">\n",
       "  <thead>\n",
       "    <tr style=\"text-align: right;\">\n",
       "      <th></th>\n",
       "      <th>name</th>\n",
       "      <th>age</th>\n",
       "      <th>address</th>\n",
       "      <th>phone</th>\n",
       "    </tr>\n",
       "    <tr>\n",
       "      <th>sn</th>\n",
       "      <th></th>\n",
       "      <th></th>\n",
       "      <th></th>\n",
       "      <th></th>\n",
       "    </tr>\n",
       "  </thead>\n",
       "  <tbody>\n",
       "    <tr>\n",
       "      <th>1</th>\n",
       "      <td>rojina</td>\n",
       "      <td>23</td>\n",
       "      <td>kalyanpur</td>\n",
       "      <td>9821888560</td>\n",
       "    </tr>\n",
       "    <tr>\n",
       "      <th>2</th>\n",
       "      <td>paras</td>\n",
       "      <td>23</td>\n",
       "      <td>tadi</td>\n",
       "      <td>9845120250</td>\n",
       "    </tr>\n",
       "    <tr>\n",
       "      <th>3</th>\n",
       "      <td>riya</td>\n",
       "      <td>19</td>\n",
       "      <td>mangalpur</td>\n",
       "      <td>9876543210</td>\n",
       "    </tr>\n",
       "    <tr>\n",
       "      <th>4</th>\n",
       "      <td>bimala</td>\n",
       "      <td>43</td>\n",
       "      <td>kalyanpur</td>\n",
       "      <td>9845271769</td>\n",
       "    </tr>\n",
       "    <tr>\n",
       "      <th>5</th>\n",
       "      <td>ganesh</td>\n",
       "      <td>50</td>\n",
       "      <td>kalyanpur</td>\n",
       "      <td>9845138429</td>\n",
       "    </tr>\n",
       "    <tr>\n",
       "      <th>6</th>\n",
       "      <td>suchak</td>\n",
       "      <td>19</td>\n",
       "      <td>parsa</td>\n",
       "      <td>9807865432</td>\n",
       "    </tr>\n",
       "  </tbody>\n",
       "</table>\n",
       "</div>"
      ],
      "text/plain": [
       "      name  age    address       phone\n",
       "sn                                    \n",
       "1   rojina   23  kalyanpur  9821888560\n",
       "2    paras   23       tadi  9845120250\n",
       "3     riya   19  mangalpur  9876543210\n",
       "4   bimala   43  kalyanpur  9845271769\n",
       "5   ganesh   50  kalyanpur  9845138429\n",
       "6   suchak   19      parsa  9807865432"
      ]
     },
     "execution_count": 4,
     "metadata": {},
     "output_type": "execute_result"
    }
   ],
   "source": [
    "import pandas as pd\n",
    "df = pd.read_csv('data.csv',index_col = 'sn')\n",
    "df"
   ]
  },
  {
   "cell_type": "code",
   "execution_count": 6,
   "id": "677af98f",
   "metadata": {},
   "outputs": [
    {
     "data": {
      "text/html": [
       "<div>\n",
       "<style scoped>\n",
       "    .dataframe tbody tr th:only-of-type {\n",
       "        vertical-align: middle;\n",
       "    }\n",
       "\n",
       "    .dataframe tbody tr th {\n",
       "        vertical-align: top;\n",
       "    }\n",
       "\n",
       "    .dataframe thead th {\n",
       "        text-align: right;\n",
       "    }\n",
       "</style>\n",
       "<table border=\"1\" class=\"dataframe\">\n",
       "  <thead>\n",
       "    <tr style=\"text-align: right;\">\n",
       "      <th></th>\n",
       "      <th>name</th>\n",
       "      <th>age</th>\n",
       "      <th>address</th>\n",
       "      <th>phone</th>\n",
       "    </tr>\n",
       "    <tr>\n",
       "      <th>sn</th>\n",
       "      <th></th>\n",
       "      <th></th>\n",
       "      <th></th>\n",
       "      <th></th>\n",
       "    </tr>\n",
       "  </thead>\n",
       "  <tbody>\n",
       "    <tr>\n",
       "      <th>1</th>\n",
       "      <td>rojina</td>\n",
       "      <td>23</td>\n",
       "      <td>kalyanpur</td>\n",
       "      <td>9821888560</td>\n",
       "    </tr>\n",
       "    <tr>\n",
       "      <th>2</th>\n",
       "      <td>paras</td>\n",
       "      <td>23</td>\n",
       "      <td>tadi</td>\n",
       "      <td>9845120250</td>\n",
       "    </tr>\n",
       "    <tr>\n",
       "      <th>3</th>\n",
       "      <td>riya</td>\n",
       "      <td>19</td>\n",
       "      <td>mangalpur</td>\n",
       "      <td>9876543210</td>\n",
       "    </tr>\n",
       "  </tbody>\n",
       "</table>\n",
       "</div>"
      ],
      "text/plain": [
       "      name  age    address       phone\n",
       "sn                                    \n",
       "1   rojina   23  kalyanpur  9821888560\n",
       "2    paras   23       tadi  9845120250\n",
       "3     riya   19  mangalpur  9876543210"
      ]
     },
     "execution_count": 6,
     "metadata": {},
     "output_type": "execute_result"
    }
   ],
   "source": [
    "import pandas as pd\n",
    "df = pd.read_csv('data.csv',index_col = 'sn')\n",
    "df.loc[1:3]"
   ]
  },
  {
   "cell_type": "code",
   "execution_count": 7,
   "id": "48daf843",
   "metadata": {},
   "outputs": [
    {
     "data": {
      "text/html": [
       "<div>\n",
       "<style scoped>\n",
       "    .dataframe tbody tr th:only-of-type {\n",
       "        vertical-align: middle;\n",
       "    }\n",
       "\n",
       "    .dataframe tbody tr th {\n",
       "        vertical-align: top;\n",
       "    }\n",
       "\n",
       "    .dataframe thead th {\n",
       "        text-align: right;\n",
       "    }\n",
       "</style>\n",
       "<table border=\"1\" class=\"dataframe\">\n",
       "  <thead>\n",
       "    <tr style=\"text-align: right;\">\n",
       "      <th></th>\n",
       "      <th>sn</th>\n",
       "      <th>age</th>\n",
       "      <th>address</th>\n",
       "      <th>phone</th>\n",
       "    </tr>\n",
       "    <tr>\n",
       "      <th>name</th>\n",
       "      <th></th>\n",
       "      <th></th>\n",
       "      <th></th>\n",
       "      <th></th>\n",
       "    </tr>\n",
       "  </thead>\n",
       "  <tbody>\n",
       "    <tr>\n",
       "      <th>rojina</th>\n",
       "      <td>1</td>\n",
       "      <td>23</td>\n",
       "      <td>kalyanpur</td>\n",
       "      <td>9821888560</td>\n",
       "    </tr>\n",
       "    <tr>\n",
       "      <th>paras</th>\n",
       "      <td>2</td>\n",
       "      <td>23</td>\n",
       "      <td>tadi</td>\n",
       "      <td>9845120250</td>\n",
       "    </tr>\n",
       "    <tr>\n",
       "      <th>riya</th>\n",
       "      <td>3</td>\n",
       "      <td>19</td>\n",
       "      <td>mangalpur</td>\n",
       "      <td>9876543210</td>\n",
       "    </tr>\n",
       "    <tr>\n",
       "      <th>bimala</th>\n",
       "      <td>4</td>\n",
       "      <td>43</td>\n",
       "      <td>kalyanpur</td>\n",
       "      <td>9845271769</td>\n",
       "    </tr>\n",
       "    <tr>\n",
       "      <th>ganesh</th>\n",
       "      <td>5</td>\n",
       "      <td>50</td>\n",
       "      <td>kalyanpur</td>\n",
       "      <td>9845138429</td>\n",
       "    </tr>\n",
       "    <tr>\n",
       "      <th>suchak</th>\n",
       "      <td>6</td>\n",
       "      <td>19</td>\n",
       "      <td>parsa</td>\n",
       "      <td>9807865432</td>\n",
       "    </tr>\n",
       "  </tbody>\n",
       "</table>\n",
       "</div>"
      ],
      "text/plain": [
       "        sn  age    address       phone\n",
       "name                                  \n",
       "rojina   1   23  kalyanpur  9821888560\n",
       "paras    2   23       tadi  9845120250\n",
       "riya     3   19  mangalpur  9876543210\n",
       "bimala   4   43  kalyanpur  9845271769\n",
       "ganesh   5   50  kalyanpur  9845138429\n",
       "suchak   6   19      parsa  9807865432"
      ]
     },
     "execution_count": 7,
     "metadata": {},
     "output_type": "execute_result"
    }
   ],
   "source": [
    "import pandas as pd\n",
    "df = pd.read_csv('data.csv',index_col = 'name')\n",
    "df     #index_col jaslai bhanauna value unique huncha ra yo value anushar reference ligcha"
   ]
  },
  {
   "cell_type": "code",
   "execution_count": 8,
   "id": "8fcfefdb",
   "metadata": {},
   "outputs": [
    {
     "data": {
      "text/html": [
       "<div>\n",
       "<style scoped>\n",
       "    .dataframe tbody tr th:only-of-type {\n",
       "        vertical-align: middle;\n",
       "    }\n",
       "\n",
       "    .dataframe tbody tr th {\n",
       "        vertical-align: top;\n",
       "    }\n",
       "\n",
       "    .dataframe thead th {\n",
       "        text-align: right;\n",
       "    }\n",
       "</style>\n",
       "<table border=\"1\" class=\"dataframe\">\n",
       "  <thead>\n",
       "    <tr style=\"text-align: right;\">\n",
       "      <th></th>\n",
       "      <th>sn</th>\n",
       "      <th>age</th>\n",
       "      <th>address</th>\n",
       "      <th>phone</th>\n",
       "    </tr>\n",
       "    <tr>\n",
       "      <th>name</th>\n",
       "      <th></th>\n",
       "      <th></th>\n",
       "      <th></th>\n",
       "      <th></th>\n",
       "    </tr>\n",
       "  </thead>\n",
       "  <tbody>\n",
       "    <tr>\n",
       "      <th>rojina</th>\n",
       "      <td>1</td>\n",
       "      <td>23</td>\n",
       "      <td>kalyanpur</td>\n",
       "      <td>9821888560</td>\n",
       "    </tr>\n",
       "    <tr>\n",
       "      <th>paras</th>\n",
       "      <td>2</td>\n",
       "      <td>23</td>\n",
       "      <td>tadi</td>\n",
       "      <td>9845120250</td>\n",
       "    </tr>\n",
       "    <tr>\n",
       "      <th>riya</th>\n",
       "      <td>3</td>\n",
       "      <td>19</td>\n",
       "      <td>mangalpur</td>\n",
       "      <td>9876543210</td>\n",
       "    </tr>\n",
       "  </tbody>\n",
       "</table>\n",
       "</div>"
      ],
      "text/plain": [
       "        sn  age    address       phone\n",
       "name                                  \n",
       "rojina   1   23  kalyanpur  9821888560\n",
       "paras    2   23       tadi  9845120250\n",
       "riya     3   19  mangalpur  9876543210"
      ]
     },
     "execution_count": 8,
     "metadata": {},
     "output_type": "execute_result"
    }
   ],
   "source": [
    "import pandas as pd\n",
    "df = pd.read_csv('data.csv',index_col = 'name')\n",
    "df.loc['rojina':'riya']"
   ]
  },
  {
   "cell_type": "code",
   "execution_count": 9,
   "id": "a61f914d",
   "metadata": {},
   "outputs": [
    {
     "data": {
      "text/plain": [
       "sn\n",
       "1    rojina\n",
       "2     paras\n",
       "3      riya\n",
       "4    bimala\n",
       "5    ganesh\n",
       "6    suchak\n",
       "Name: name, dtype: object"
      ]
     },
     "execution_count": 9,
     "metadata": {},
     "output_type": "execute_result"
    }
   ],
   "source": [
    "import pandas as pd\n",
    "df = pd.read_csv('data.csv',index_col = 'sn')\n",
    "df['name']"
   ]
  },
  {
   "cell_type": "code",
   "execution_count": 10,
   "id": "3000ebde",
   "metadata": {},
   "outputs": [
    {
     "data": {
      "text/plain": [
       "sn\n",
       "1     True\n",
       "2    False\n",
       "3    False\n",
       "4    False\n",
       "5    False\n",
       "6    False\n",
       "Name: name, dtype: bool"
      ]
     },
     "execution_count": 10,
     "metadata": {},
     "output_type": "execute_result"
    }
   ],
   "source": [
    "import pandas as pd\n",
    "df = pd.read_csv('data.csv',index_col = 'sn')\n",
    "df['name'] ==  'rojina' # == comparison operator"
   ]
  },
  {
   "cell_type": "code",
   "execution_count": 11,
   "id": "38952e19",
   "metadata": {},
   "outputs": [
    {
     "data": {
      "text/html": [
       "<div>\n",
       "<style scoped>\n",
       "    .dataframe tbody tr th:only-of-type {\n",
       "        vertical-align: middle;\n",
       "    }\n",
       "\n",
       "    .dataframe tbody tr th {\n",
       "        vertical-align: top;\n",
       "    }\n",
       "\n",
       "    .dataframe thead th {\n",
       "        text-align: right;\n",
       "    }\n",
       "</style>\n",
       "<table border=\"1\" class=\"dataframe\">\n",
       "  <thead>\n",
       "    <tr style=\"text-align: right;\">\n",
       "      <th></th>\n",
       "      <th>name</th>\n",
       "      <th>age</th>\n",
       "      <th>address</th>\n",
       "      <th>phone</th>\n",
       "    </tr>\n",
       "    <tr>\n",
       "      <th>sn</th>\n",
       "      <th></th>\n",
       "      <th></th>\n",
       "      <th></th>\n",
       "      <th></th>\n",
       "    </tr>\n",
       "  </thead>\n",
       "  <tbody>\n",
       "    <tr>\n",
       "      <th>1</th>\n",
       "      <td>rojina</td>\n",
       "      <td>23</td>\n",
       "      <td>kalyanpur</td>\n",
       "      <td>9821888560</td>\n",
       "    </tr>\n",
       "  </tbody>\n",
       "</table>\n",
       "</div>"
      ],
      "text/plain": [
       "      name  age    address       phone\n",
       "sn                                    \n",
       "1   rojina   23  kalyanpur  9821888560"
      ]
     },
     "execution_count": 11,
     "metadata": {},
     "output_type": "execute_result"
    }
   ],
   "source": [
    "import pandas as pd\n",
    "df = pd.read_csv('data.csv',index_col = 'sn')\n",
    "df[df['name'] ==  'rojina']   # double df means j value aaucha, df ma convert gara  "
   ]
  },
  {
   "cell_type": "code",
   "execution_count": 12,
   "id": "ef40aff1",
   "metadata": {},
   "outputs": [
    {
     "data": {
      "text/html": [
       "<div>\n",
       "<style scoped>\n",
       "    .dataframe tbody tr th:only-of-type {\n",
       "        vertical-align: middle;\n",
       "    }\n",
       "\n",
       "    .dataframe tbody tr th {\n",
       "        vertical-align: top;\n",
       "    }\n",
       "\n",
       "    .dataframe thead th {\n",
       "        text-align: right;\n",
       "    }\n",
       "</style>\n",
       "<table border=\"1\" class=\"dataframe\">\n",
       "  <thead>\n",
       "    <tr style=\"text-align: right;\">\n",
       "      <th></th>\n",
       "      <th>name</th>\n",
       "      <th>age</th>\n",
       "      <th>address</th>\n",
       "      <th>phone</th>\n",
       "    </tr>\n",
       "    <tr>\n",
       "      <th>sn</th>\n",
       "      <th></th>\n",
       "      <th></th>\n",
       "      <th></th>\n",
       "      <th></th>\n",
       "    </tr>\n",
       "  </thead>\n",
       "  <tbody>\n",
       "    <tr>\n",
       "      <th>1</th>\n",
       "      <td>rojina</td>\n",
       "      <td>23</td>\n",
       "      <td>kalyanpur</td>\n",
       "      <td>9821888560</td>\n",
       "    </tr>\n",
       "    <tr>\n",
       "      <th>2</th>\n",
       "      <td>paras</td>\n",
       "      <td>23</td>\n",
       "      <td>tadi</td>\n",
       "      <td>9845120250</td>\n",
       "    </tr>\n",
       "    <tr>\n",
       "      <th>4</th>\n",
       "      <td>bimala</td>\n",
       "      <td>43</td>\n",
       "      <td>kalyanpur</td>\n",
       "      <td>9845271769</td>\n",
       "    </tr>\n",
       "    <tr>\n",
       "      <th>5</th>\n",
       "      <td>ganesh</td>\n",
       "      <td>50</td>\n",
       "      <td>kalyanpur</td>\n",
       "      <td>9845138429</td>\n",
       "    </tr>\n",
       "  </tbody>\n",
       "</table>\n",
       "</div>"
      ],
      "text/plain": [
       "      name  age    address       phone\n",
       "sn                                    \n",
       "1   rojina   23  kalyanpur  9821888560\n",
       "2    paras   23       tadi  9845120250\n",
       "4   bimala   43  kalyanpur  9845271769\n",
       "5   ganesh   50  kalyanpur  9845138429"
      ]
     },
     "execution_count": 12,
     "metadata": {},
     "output_type": "execute_result"
    }
   ],
   "source": [
    "import pandas as pd\n",
    "df = pd.read_csv('data.csv',index_col = 'sn')\n",
    "df[df['age'] > 20] "
   ]
  },
  {
   "cell_type": "code",
   "execution_count": 13,
   "id": "380f4517",
   "metadata": {},
   "outputs": [
    {
     "data": {
      "text/plain": [
       "sn\n",
       "1    23\n",
       "2    23\n",
       "3    19\n",
       "4    43\n",
       "5    50\n",
       "6    19\n",
       "Name: age, dtype: int64"
      ]
     },
     "execution_count": 13,
     "metadata": {},
     "output_type": "execute_result"
    }
   ],
   "source": [
    "df['age']"
   ]
  },
  {
   "cell_type": "code",
   "execution_count": 14,
   "id": "87307f9c",
   "metadata": {},
   "outputs": [
    {
     "data": {
      "text/plain": [
       "[23, 23, 19, 43, 50, 19]"
      ]
     },
     "execution_count": 14,
     "metadata": {},
     "output_type": "execute_result"
    }
   ],
   "source": [
    "list(df['age'])"
   ]
  },
  {
   "cell_type": "code",
   "execution_count": 15,
   "id": "ede0545e",
   "metadata": {},
   "outputs": [
    {
     "data": {
      "text/plain": [
       "23"
      ]
     },
     "execution_count": 15,
     "metadata": {},
     "output_type": "execute_result"
    }
   ],
   "source": [
    "list(df['age'])[0]"
   ]
  },
  {
   "cell_type": "code",
   "execution_count": 16,
   "id": "136ecae1",
   "metadata": {},
   "outputs": [
    {
     "data": {
      "text/plain": [
       "int"
      ]
     },
     "execution_count": 16,
     "metadata": {},
     "output_type": "execute_result"
    }
   ],
   "source": [
    "type(list(df['age'])[0])"
   ]
  },
  {
   "cell_type": "code",
   "execution_count": 1,
   "id": "480b2f0d",
   "metadata": {},
   "outputs": [],
   "source": [
    "import pandas as pd\n",
    "df = pd.read_csv('data.csv',index_col = 'sn')\n",
    "data = df[df['age']>20]\n",
    "data.to_csv('new_data.csv')    #to_csv  afai create garcha file and write garcha"
   ]
  },
  {
   "cell_type": "code",
   "execution_count": 4,
   "id": "0794fdee",
   "metadata": {},
   "outputs": [
    {
     "data": {
      "text/html": [
       "<div>\n",
       "<style scoped>\n",
       "    .dataframe tbody tr th:only-of-type {\n",
       "        vertical-align: middle;\n",
       "    }\n",
       "\n",
       "    .dataframe tbody tr th {\n",
       "        vertical-align: top;\n",
       "    }\n",
       "\n",
       "    .dataframe thead th {\n",
       "        text-align: right;\n",
       "    }\n",
       "</style>\n",
       "<table border=\"1\" class=\"dataframe\">\n",
       "  <thead>\n",
       "    <tr style=\"text-align: right;\">\n",
       "      <th></th>\n",
       "      <th>name</th>\n",
       "      <th>age</th>\n",
       "      <th>address</th>\n",
       "      <th>phone</th>\n",
       "    </tr>\n",
       "    <tr>\n",
       "      <th>sn</th>\n",
       "      <th></th>\n",
       "      <th></th>\n",
       "      <th></th>\n",
       "      <th></th>\n",
       "    </tr>\n",
       "  </thead>\n",
       "  <tbody>\n",
       "    <tr>\n",
       "      <th>1</th>\n",
       "      <td>rojina</td>\n",
       "      <td>23</td>\n",
       "      <td>kalyanpur</td>\n",
       "      <td>9821888560</td>\n",
       "    </tr>\n",
       "    <tr>\n",
       "      <th>4</th>\n",
       "      <td>bimala</td>\n",
       "      <td>43</td>\n",
       "      <td>kalyanpur</td>\n",
       "      <td>9845271769</td>\n",
       "    </tr>\n",
       "    <tr>\n",
       "      <th>5</th>\n",
       "      <td>ganesh</td>\n",
       "      <td>50</td>\n",
       "      <td>kalyanpur</td>\n",
       "      <td>9845138429</td>\n",
       "    </tr>\n",
       "  </tbody>\n",
       "</table>\n",
       "</div>"
      ],
      "text/plain": [
       "      name  age    address       phone\n",
       "sn                                    \n",
       "1   rojina   23  kalyanpur  9821888560\n",
       "4   bimala   43  kalyanpur  9845271769\n",
       "5   ganesh   50  kalyanpur  9845138429"
      ]
     },
     "execution_count": 4,
     "metadata": {},
     "output_type": "execute_result"
    }
   ],
   "source": [
    "import pandas as pd\n",
    "df = pd.read_csv('data.csv',index_col = 'sn')\n",
    "data = df[(df['age']>20) & (df['address'] =='kalyanpur')]\n",
    "data\n",
    "    "
   ]
  },
  {
   "cell_type": "code",
   "execution_count": 3,
   "id": "e53a885a",
   "metadata": {},
   "outputs": [
    {
     "data": {
      "text/html": [
       "<div>\n",
       "<style scoped>\n",
       "    .dataframe tbody tr th:only-of-type {\n",
       "        vertical-align: middle;\n",
       "    }\n",
       "\n",
       "    .dataframe tbody tr th {\n",
       "        vertical-align: top;\n",
       "    }\n",
       "\n",
       "    .dataframe thead th {\n",
       "        text-align: right;\n",
       "    }\n",
       "</style>\n",
       "<table border=\"1\" class=\"dataframe\">\n",
       "  <thead>\n",
       "    <tr style=\"text-align: right;\">\n",
       "      <th></th>\n",
       "      <th>sn</th>\n",
       "      <th>product</th>\n",
       "      <th>price</th>\n",
       "      <th>quantity</th>\n",
       "      <th>total</th>\n",
       "    </tr>\n",
       "  </thead>\n",
       "  <tbody>\n",
       "    <tr>\n",
       "      <th>0</th>\n",
       "      <td>1</td>\n",
       "      <td>momo</td>\n",
       "      <td>200</td>\n",
       "      <td>2</td>\n",
       "      <td>400</td>\n",
       "    </tr>\n",
       "    <tr>\n",
       "      <th>1</th>\n",
       "      <td>2</td>\n",
       "      <td>coke</td>\n",
       "      <td>100</td>\n",
       "      <td>4</td>\n",
       "      <td>400</td>\n",
       "    </tr>\n",
       "  </tbody>\n",
       "</table>\n",
       "</div>"
      ],
      "text/plain": [
       "   sn product  price  quantity  total\n",
       "0   1    momo    200         2    400\n",
       "1   2    coke    100         4    400"
      ]
     },
     "execution_count": 3,
     "metadata": {},
     "output_type": "execute_result"
    }
   ],
   "source": [
    "import pandas as pd\n",
    "d = {'sn':[1,2],\n",
    "    'product':['momo','coke'],\n",
    "    'price':[200,100],\n",
    "    'quantity':[2,4],\n",
    "    'total':[400,400]}\n",
    "df= pd.DataFrame(d)\n",
    "df"
   ]
  },
  {
   "cell_type": "code",
   "execution_count": 1,
   "id": "db8cabf3",
   "metadata": {},
   "outputs": [],
   "source": [
    "#list ma write kasari garne\n",
    "import csv\n",
    "data = [[1,'momo',200,2,400],\n",
    "        [2,'coke',100,4,400]]\n",
    "with open('bills.csv','w') as file:\n",
    "    x = csv.writer(file)   # x = object (hold operation)\n",
    "    x.writerows(data)"
   ]
  },
  {
   "cell_type": "code",
   "execution_count": null,
   "id": "c1f0ef84",
   "metadata": {},
   "outputs": [],
   "source": [
    "#DictReader\n",
    "-pandas or csv ma bhayeko data haru huncha teslai dictionary ko format ma read garne"
   ]
  },
  {
   "cell_type": "code",
   "execution_count": 1,
   "id": "4ad50f99",
   "metadata": {},
   "outputs": [
    {
     "name": "stdout",
     "output_type": "stream",
     "text": [
      "{'sn': '1', 'name': 'rojina', 'age': '23', 'address': 'kalyanpur', 'phone': '9821888560'}\n",
      "{'sn': '2', 'name': 'paras', 'age': '23', 'address': 'tadi', 'phone': '9845120250'}\n",
      "{'sn': '3', 'name': 'riya', 'age': '19', 'address': 'mangalpur', 'phone': '9876543210'}\n",
      "{'sn': '4', 'name': 'bimala', 'age': '43', 'address': 'kalyanpur', 'phone': '9845271769'}\n",
      "{'sn': '5', 'name': 'ganesh', 'age': '50', 'address': 'kalyanpur', 'phone': '9845138429'}\n",
      "{'sn': '6', 'name': 'suchak', 'age': '19', 'address': 'parsa', 'phone': '9807865432'}\n"
     ]
    }
   ],
   "source": [
    "import csv\n",
    "with open('data.csv') as csvfile:\n",
    "    reader = csv.DictReader(csvfile)\n",
    "    for row in reader:\n",
    "        print(row)\n"
   ]
  },
  {
   "cell_type": "code",
   "execution_count": 3,
   "id": "7aedf7d1",
   "metadata": {},
   "outputs": [],
   "source": [
    "#DictWriter\n",
    "import csv\n",
    "csv_columns = ['Name','Age','Address']\n",
    "dict = [\n",
    "    {'Name':'Rojina','Age':23,'Address':'Bharatpur'},\n",
    "    {'Name':'Paras','Age':23,'Address':'Tadi'}\n",
    "    \n",
    "]\n",
    "\n",
    "with open('data.csv','w') as csvfile:\n",
    "    writer = csv.DictWriter(csvfile,fieldnames =csv_columns)\n",
    "    writer.writeheader()\n",
    "    for data in dict:\n",
    "        writer.writerow(data)\n",
    "    "
   ]
  },
  {
   "cell_type": "code",
   "execution_count": null,
   "id": "86af7534",
   "metadata": {},
   "outputs": [],
   "source": []
  }
 ],
 "metadata": {
  "kernelspec": {
   "display_name": "Python 3 (ipykernel)",
   "language": "python",
   "name": "python3"
  },
  "language_info": {
   "codemirror_mode": {
    "name": "ipython",
    "version": 3
   },
   "file_extension": ".py",
   "mimetype": "text/x-python",
   "name": "python",
   "nbconvert_exporter": "python",
   "pygments_lexer": "ipython3",
   "version": "3.9.13"
  }
 },
 "nbformat": 4,
 "nbformat_minor": 5
}
