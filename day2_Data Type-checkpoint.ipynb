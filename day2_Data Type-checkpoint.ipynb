{
 "cells": [
  {
   "cell_type": "code",
   "execution_count": 5,
   "id": "95effac6",
   "metadata": {},
   "outputs": [
    {
     "name": "stdout",
     "output_type": "stream",
     "text": [
      "enter p = 1000\n",
      "enter t = 3.5\n",
      "enter r = 10.4\n",
      "The value of i =  364.0\n"
     ]
    }
   ],
   "source": [
    "p = float(input(\"enter p = \"))\n",
    "t = float(input(\"enter t = \"))\n",
    "r = float(input(\"enter r = \"))\n",
    "\n",
    "i=p*t*r/100\n",
    "print(\"The value of i = \",i)"
   ]
  },
  {
   "cell_type": "code",
   "execution_count": 6,
   "id": "c00de5ae",
   "metadata": {},
   "outputs": [
    {
     "name": "stdout",
     "output_type": "stream",
     "text": [
      "enter r = 100\n",
      "Area of circle is =  31400.0\n"
     ]
    }
   ],
   "source": [
    "r = float(input(\"enter r = \"))\n",
    "pi = 3.14\n",
    "\n",
    "a = pi*(r**2)\n",
    "print(\"Area of circle is = \",a)"
   ]
  },
  {
   "cell_type": "code",
   "execution_count": 8,
   "id": "163190fc",
   "metadata": {},
   "outputs": [
    {
     "name": "stdout",
     "output_type": "stream",
     "text": [
      "enter name = Rojina\n",
      " Hello Rojina\n"
     ]
    }
   ],
   "source": [
    "name = input(\"enter name = \")\n",
    "info = \" Hello \" + name\n",
    "print(info)"
   ]
  },
  {
   "cell_type": "code",
   "execution_count": 9,
   "id": "48787f66",
   "metadata": {},
   "outputs": [
    {
     "name": "stdout",
     "output_type": "stream",
     "text": [
      "enter name = Rojina\n",
      "enter age = 23\n",
      "enter add = bharatpur\n",
      " Hello I am Rojina I am from bharatpur I am 23\n"
     ]
    }
   ],
   "source": [
    "name = input(\"enter name = \")\n",
    "age = input(\"enter age = \")\n",
    "add = input(\"enter add = \")\n",
    "info = \" Hello I am \" + name + \" I am from \" +add + \" I am \" + age\n",
    "print(info)"
   ]
  },
  {
   "cell_type": "code",
   "execution_count": 10,
   "id": "a8705b43",
   "metadata": {},
   "outputs": [
    {
     "name": "stdout",
     "output_type": "stream",
     "text": [
      "False\n",
      "True\n",
      "False\n",
      "True\n",
      "False\n",
      "True\n"
     ]
    }
   ],
   "source": [
    "# < > <= >= == !=\n",
    "\n",
    "a = 10\n",
    "b = 3\n",
    "print(a<b)\n",
    "print(a>b)\n",
    "print(a<=b)\n",
    "print(a>=b)\n",
    "print(a == b)\n",
    "print(a !=b)\n"
   ]
  },
  {
   "cell_type": "code",
   "execution_count": 11,
   "id": "96b9ec0c",
   "metadata": {},
   "outputs": [
    {
     "name": "stdout",
     "output_type": "stream",
     "text": [
      "enter a = 10\n",
      "enter b = 20\n",
      "True\n",
      "False\n",
      "False\n",
      "True\n",
      "False\n",
      "True\n"
     ]
    }
   ],
   "source": [
    "a = input(\"enter a = \")\n",
    "b = input(\"enter b = \")\n",
    "print(a<b)\n",
    "print(a>b)\n",
    "print(a>=b)\n",
    "print(a<=b)\n",
    "print(a == b)\n",
    "print(a !=b)\n"
   ]
  },
  {
   "cell_type": "code",
   "execution_count": null,
   "id": "5115239d",
   "metadata": {},
   "outputs": [],
   "source": [
    "# if <condition>:\n",
    "#     <operations>\n",
    "# elif<condition>:\n",
    "#     <operations>\n",
    "# ....\n",
    "# else:\n",
    "#     <operations>"
   ]
  }
 ],
 "metadata": {
  "kernelspec": {
   "display_name": "Python 3 (ipykernel)",
   "language": "python",
   "name": "python3"
  },
  "language_info": {
   "codemirror_mode": {
    "name": "ipython",
    "version": 3
   },
   "file_extension": ".py",
   "mimetype": "text/x-python",
   "name": "python",
   "nbconvert_exporter": "python",
   "pygments_lexer": "ipython3",
   "version": "3.9.13"
  }
 },
 "nbformat": 4,
 "nbformat_minor": 5
}
